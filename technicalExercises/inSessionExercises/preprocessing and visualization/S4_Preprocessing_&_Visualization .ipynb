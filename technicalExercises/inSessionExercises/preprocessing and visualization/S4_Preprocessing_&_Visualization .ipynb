{
 "cells": [
  {
   "cell_type": "markdown",
   "metadata": {
    "id": "G35a-O06Agdz"
   },
   "source": [
    "# Importing necessary libraries"
   ]
  },
  {
   "cell_type": "code",
   "metadata": {
    "id": "4Faid_FjAgNK",
    "ExecuteTime": {
     "end_time": "2024-11-30T17:24:58.103742Z",
     "start_time": "2024-11-30T17:24:57.920895Z"
    }
   },
   "source": [
    "import numpy as np\n",
    "import pandas as pd\n",
    "import matplotlib.pyplot as plt\n",
    "import seaborn as sns"
   ],
   "outputs": [],
   "execution_count": 2
  },
  {
   "cell_type": "markdown",
   "metadata": {
    "id": "b-O9Bvr04zPS"
   },
   "source": [
    "#  Data Loading and Inspection"
   ]
  },
  {
   "cell_type": "markdown",
   "metadata": {
    "id": "sukHoHwt8BTm"
   },
   "source": [
    "\n",
    "\n",
    "> Load the Titanic dataset and display basic information to understand the structure and data types, as well as summary statistics to get an overview of the data.\n",
    "\n"
   ]
  },
  {
   "cell_type": "code",
   "metadata": {
    "id": "noX34mDH73oO",
    "ExecuteTime": {
     "end_time": "2024-11-30T17:25:03.870765Z",
     "start_time": "2024-11-30T17:25:03.233333Z"
    }
   },
   "source": [
    "# Load the Titanic dataset\n",
    "titanic = sns.load_dataset('titanic')"
   ],
   "outputs": [],
   "execution_count": 3
  },
  {
   "cell_type": "code",
   "metadata": {
    "colab": {
     "base_uri": "https://localhost:8080/",
     "height": 206
    },
    "id": "GDIifXXO74oH",
    "outputId": "fafc00fa-09da-4080-c56d-cf9701dc7055",
    "ExecuteTime": {
     "end_time": "2024-11-30T17:25:04.866940Z",
     "start_time": "2024-11-30T17:25:04.848438Z"
    }
   },
   "source": [
    "# Display the first few rows\n",
    "titanic.head()"
   ],
   "outputs": [
    {
     "data": {
      "text/plain": [
       "   survived  pclass     sex   age  sibsp  parch     fare embarked  class  \\\n",
       "0         0       3    male  22.0      1      0   7.2500        S  Third   \n",
       "1         1       1  female  38.0      1      0  71.2833        C  First   \n",
       "2         1       3  female  26.0      0      0   7.9250        S  Third   \n",
       "3         1       1  female  35.0      1      0  53.1000        S  First   \n",
       "4         0       3    male  35.0      0      0   8.0500        S  Third   \n",
       "\n",
       "     who  adult_male deck  embark_town alive  alone  \n",
       "0    man        True  NaN  Southampton    no  False  \n",
       "1  woman       False    C    Cherbourg   yes  False  \n",
       "2  woman       False  NaN  Southampton   yes   True  \n",
       "3  woman       False    C  Southampton   yes  False  \n",
       "4    man        True  NaN  Southampton    no   True  "
      ],
      "text/html": [
       "<div>\n",
       "<style scoped>\n",
       "    .dataframe tbody tr th:only-of-type {\n",
       "        vertical-align: middle;\n",
       "    }\n",
       "\n",
       "    .dataframe tbody tr th {\n",
       "        vertical-align: top;\n",
       "    }\n",
       "\n",
       "    .dataframe thead th {\n",
       "        text-align: right;\n",
       "    }\n",
       "</style>\n",
       "<table border=\"1\" class=\"dataframe\">\n",
       "  <thead>\n",
       "    <tr style=\"text-align: right;\">\n",
       "      <th></th>\n",
       "      <th>survived</th>\n",
       "      <th>pclass</th>\n",
       "      <th>sex</th>\n",
       "      <th>age</th>\n",
       "      <th>sibsp</th>\n",
       "      <th>parch</th>\n",
       "      <th>fare</th>\n",
       "      <th>embarked</th>\n",
       "      <th>class</th>\n",
       "      <th>who</th>\n",
       "      <th>adult_male</th>\n",
       "      <th>deck</th>\n",
       "      <th>embark_town</th>\n",
       "      <th>alive</th>\n",
       "      <th>alone</th>\n",
       "    </tr>\n",
       "  </thead>\n",
       "  <tbody>\n",
       "    <tr>\n",
       "      <th>0</th>\n",
       "      <td>0</td>\n",
       "      <td>3</td>\n",
       "      <td>male</td>\n",
       "      <td>22.0</td>\n",
       "      <td>1</td>\n",
       "      <td>0</td>\n",
       "      <td>7.2500</td>\n",
       "      <td>S</td>\n",
       "      <td>Third</td>\n",
       "      <td>man</td>\n",
       "      <td>True</td>\n",
       "      <td>NaN</td>\n",
       "      <td>Southampton</td>\n",
       "      <td>no</td>\n",
       "      <td>False</td>\n",
       "    </tr>\n",
       "    <tr>\n",
       "      <th>1</th>\n",
       "      <td>1</td>\n",
       "      <td>1</td>\n",
       "      <td>female</td>\n",
       "      <td>38.0</td>\n",
       "      <td>1</td>\n",
       "      <td>0</td>\n",
       "      <td>71.2833</td>\n",
       "      <td>C</td>\n",
       "      <td>First</td>\n",
       "      <td>woman</td>\n",
       "      <td>False</td>\n",
       "      <td>C</td>\n",
       "      <td>Cherbourg</td>\n",
       "      <td>yes</td>\n",
       "      <td>False</td>\n",
       "    </tr>\n",
       "    <tr>\n",
       "      <th>2</th>\n",
       "      <td>1</td>\n",
       "      <td>3</td>\n",
       "      <td>female</td>\n",
       "      <td>26.0</td>\n",
       "      <td>0</td>\n",
       "      <td>0</td>\n",
       "      <td>7.9250</td>\n",
       "      <td>S</td>\n",
       "      <td>Third</td>\n",
       "      <td>woman</td>\n",
       "      <td>False</td>\n",
       "      <td>NaN</td>\n",
       "      <td>Southampton</td>\n",
       "      <td>yes</td>\n",
       "      <td>True</td>\n",
       "    </tr>\n",
       "    <tr>\n",
       "      <th>3</th>\n",
       "      <td>1</td>\n",
       "      <td>1</td>\n",
       "      <td>female</td>\n",
       "      <td>35.0</td>\n",
       "      <td>1</td>\n",
       "      <td>0</td>\n",
       "      <td>53.1000</td>\n",
       "      <td>S</td>\n",
       "      <td>First</td>\n",
       "      <td>woman</td>\n",
       "      <td>False</td>\n",
       "      <td>C</td>\n",
       "      <td>Southampton</td>\n",
       "      <td>yes</td>\n",
       "      <td>False</td>\n",
       "    </tr>\n",
       "    <tr>\n",
       "      <th>4</th>\n",
       "      <td>0</td>\n",
       "      <td>3</td>\n",
       "      <td>male</td>\n",
       "      <td>35.0</td>\n",
       "      <td>0</td>\n",
       "      <td>0</td>\n",
       "      <td>8.0500</td>\n",
       "      <td>S</td>\n",
       "      <td>Third</td>\n",
       "      <td>man</td>\n",
       "      <td>True</td>\n",
       "      <td>NaN</td>\n",
       "      <td>Southampton</td>\n",
       "      <td>no</td>\n",
       "      <td>True</td>\n",
       "    </tr>\n",
       "  </tbody>\n",
       "</table>\n",
       "</div>"
      ]
     },
     "execution_count": 4,
     "metadata": {},
     "output_type": "execute_result"
    }
   ],
   "execution_count": 4
  },
  {
   "cell_type": "code",
   "metadata": {
    "colab": {
     "base_uri": "https://localhost:8080/"
    },
    "id": "8uuldSQy76iX",
    "outputId": "d4ec9fc5-6eea-4e5f-9b01-846d5d6b3ffe",
    "ExecuteTime": {
     "end_time": "2024-11-30T17:25:08.843181Z",
     "start_time": "2024-11-30T17:25:08.828350Z"
    }
   },
   "source": [
    "# Display summary information\n",
    "titanic.info()"
   ],
   "outputs": [
    {
     "name": "stdout",
     "output_type": "stream",
     "text": [
      "<class 'pandas.core.frame.DataFrame'>\n",
      "RangeIndex: 891 entries, 0 to 890\n",
      "Data columns (total 15 columns):\n",
      " #   Column       Non-Null Count  Dtype   \n",
      "---  ------       --------------  -----   \n",
      " 0   survived     891 non-null    int64   \n",
      " 1   pclass       891 non-null    int64   \n",
      " 2   sex          891 non-null    object  \n",
      " 3   age          714 non-null    float64 \n",
      " 4   sibsp        891 non-null    int64   \n",
      " 5   parch        891 non-null    int64   \n",
      " 6   fare         891 non-null    float64 \n",
      " 7   embarked     889 non-null    object  \n",
      " 8   class        891 non-null    category\n",
      " 9   who          891 non-null    object  \n",
      " 10  adult_male   891 non-null    bool    \n",
      " 11  deck         203 non-null    category\n",
      " 12  embark_town  889 non-null    object  \n",
      " 13  alive        891 non-null    object  \n",
      " 14  alone        891 non-null    bool    \n",
      "dtypes: bool(2), category(2), float64(2), int64(4), object(5)\n",
      "memory usage: 80.7+ KB\n"
     ]
    }
   ],
   "execution_count": 5
  },
  {
   "cell_type": "code",
   "metadata": {
    "colab": {
     "base_uri": "https://localhost:8080/",
     "height": 394
    },
    "id": "2JDCNmMJ4uiw",
    "outputId": "19596bad-6b17-42f5-fcde-8611191b83cd",
    "ExecuteTime": {
     "end_time": "2024-11-30T17:25:16.916753Z",
     "start_time": "2024-11-30T17:25:16.877525Z"
    }
   },
   "source": [
    "# Show statistical summary\n",
    "titanic.describe(include='all')"
   ],
   "outputs": [
    {
     "data": {
      "text/plain": [
       "          survived      pclass   sex         age       sibsp       parch  \\\n",
       "count   891.000000  891.000000   891  714.000000  891.000000  891.000000   \n",
       "unique         NaN         NaN     2         NaN         NaN         NaN   \n",
       "top            NaN         NaN  male         NaN         NaN         NaN   \n",
       "freq           NaN         NaN   577         NaN         NaN         NaN   \n",
       "mean      0.383838    2.308642   NaN   29.699118    0.523008    0.381594   \n",
       "std       0.486592    0.836071   NaN   14.526497    1.102743    0.806057   \n",
       "min       0.000000    1.000000   NaN    0.420000    0.000000    0.000000   \n",
       "25%       0.000000    2.000000   NaN   20.125000    0.000000    0.000000   \n",
       "50%       0.000000    3.000000   NaN   28.000000    0.000000    0.000000   \n",
       "75%       1.000000    3.000000   NaN   38.000000    1.000000    0.000000   \n",
       "max       1.000000    3.000000   NaN   80.000000    8.000000    6.000000   \n",
       "\n",
       "              fare embarked  class  who adult_male deck  embark_town alive  \\\n",
       "count   891.000000      889    891  891        891  203          889   891   \n",
       "unique         NaN        3      3    3          2    7            3     2   \n",
       "top            NaN        S  Third  man       True    C  Southampton    no   \n",
       "freq           NaN      644    491  537        537   59          644   549   \n",
       "mean     32.204208      NaN    NaN  NaN        NaN  NaN          NaN   NaN   \n",
       "std      49.693429      NaN    NaN  NaN        NaN  NaN          NaN   NaN   \n",
       "min       0.000000      NaN    NaN  NaN        NaN  NaN          NaN   NaN   \n",
       "25%       7.910400      NaN    NaN  NaN        NaN  NaN          NaN   NaN   \n",
       "50%      14.454200      NaN    NaN  NaN        NaN  NaN          NaN   NaN   \n",
       "75%      31.000000      NaN    NaN  NaN        NaN  NaN          NaN   NaN   \n",
       "max     512.329200      NaN    NaN  NaN        NaN  NaN          NaN   NaN   \n",
       "\n",
       "       alone  \n",
       "count    891  \n",
       "unique     2  \n",
       "top     True  \n",
       "freq     537  \n",
       "mean     NaN  \n",
       "std      NaN  \n",
       "min      NaN  \n",
       "25%      NaN  \n",
       "50%      NaN  \n",
       "75%      NaN  \n",
       "max      NaN  "
      ],
      "text/html": [
       "<div>\n",
       "<style scoped>\n",
       "    .dataframe tbody tr th:only-of-type {\n",
       "        vertical-align: middle;\n",
       "    }\n",
       "\n",
       "    .dataframe tbody tr th {\n",
       "        vertical-align: top;\n",
       "    }\n",
       "\n",
       "    .dataframe thead th {\n",
       "        text-align: right;\n",
       "    }\n",
       "</style>\n",
       "<table border=\"1\" class=\"dataframe\">\n",
       "  <thead>\n",
       "    <tr style=\"text-align: right;\">\n",
       "      <th></th>\n",
       "      <th>survived</th>\n",
       "      <th>pclass</th>\n",
       "      <th>sex</th>\n",
       "      <th>age</th>\n",
       "      <th>sibsp</th>\n",
       "      <th>parch</th>\n",
       "      <th>fare</th>\n",
       "      <th>embarked</th>\n",
       "      <th>class</th>\n",
       "      <th>who</th>\n",
       "      <th>adult_male</th>\n",
       "      <th>deck</th>\n",
       "      <th>embark_town</th>\n",
       "      <th>alive</th>\n",
       "      <th>alone</th>\n",
       "    </tr>\n",
       "  </thead>\n",
       "  <tbody>\n",
       "    <tr>\n",
       "      <th>count</th>\n",
       "      <td>891.000000</td>\n",
       "      <td>891.000000</td>\n",
       "      <td>891</td>\n",
       "      <td>714.000000</td>\n",
       "      <td>891.000000</td>\n",
       "      <td>891.000000</td>\n",
       "      <td>891.000000</td>\n",
       "      <td>889</td>\n",
       "      <td>891</td>\n",
       "      <td>891</td>\n",
       "      <td>891</td>\n",
       "      <td>203</td>\n",
       "      <td>889</td>\n",
       "      <td>891</td>\n",
       "      <td>891</td>\n",
       "    </tr>\n",
       "    <tr>\n",
       "      <th>unique</th>\n",
       "      <td>NaN</td>\n",
       "      <td>NaN</td>\n",
       "      <td>2</td>\n",
       "      <td>NaN</td>\n",
       "      <td>NaN</td>\n",
       "      <td>NaN</td>\n",
       "      <td>NaN</td>\n",
       "      <td>3</td>\n",
       "      <td>3</td>\n",
       "      <td>3</td>\n",
       "      <td>2</td>\n",
       "      <td>7</td>\n",
       "      <td>3</td>\n",
       "      <td>2</td>\n",
       "      <td>2</td>\n",
       "    </tr>\n",
       "    <tr>\n",
       "      <th>top</th>\n",
       "      <td>NaN</td>\n",
       "      <td>NaN</td>\n",
       "      <td>male</td>\n",
       "      <td>NaN</td>\n",
       "      <td>NaN</td>\n",
       "      <td>NaN</td>\n",
       "      <td>NaN</td>\n",
       "      <td>S</td>\n",
       "      <td>Third</td>\n",
       "      <td>man</td>\n",
       "      <td>True</td>\n",
       "      <td>C</td>\n",
       "      <td>Southampton</td>\n",
       "      <td>no</td>\n",
       "      <td>True</td>\n",
       "    </tr>\n",
       "    <tr>\n",
       "      <th>freq</th>\n",
       "      <td>NaN</td>\n",
       "      <td>NaN</td>\n",
       "      <td>577</td>\n",
       "      <td>NaN</td>\n",
       "      <td>NaN</td>\n",
       "      <td>NaN</td>\n",
       "      <td>NaN</td>\n",
       "      <td>644</td>\n",
       "      <td>491</td>\n",
       "      <td>537</td>\n",
       "      <td>537</td>\n",
       "      <td>59</td>\n",
       "      <td>644</td>\n",
       "      <td>549</td>\n",
       "      <td>537</td>\n",
       "    </tr>\n",
       "    <tr>\n",
       "      <th>mean</th>\n",
       "      <td>0.383838</td>\n",
       "      <td>2.308642</td>\n",
       "      <td>NaN</td>\n",
       "      <td>29.699118</td>\n",
       "      <td>0.523008</td>\n",
       "      <td>0.381594</td>\n",
       "      <td>32.204208</td>\n",
       "      <td>NaN</td>\n",
       "      <td>NaN</td>\n",
       "      <td>NaN</td>\n",
       "      <td>NaN</td>\n",
       "      <td>NaN</td>\n",
       "      <td>NaN</td>\n",
       "      <td>NaN</td>\n",
       "      <td>NaN</td>\n",
       "    </tr>\n",
       "    <tr>\n",
       "      <th>std</th>\n",
       "      <td>0.486592</td>\n",
       "      <td>0.836071</td>\n",
       "      <td>NaN</td>\n",
       "      <td>14.526497</td>\n",
       "      <td>1.102743</td>\n",
       "      <td>0.806057</td>\n",
       "      <td>49.693429</td>\n",
       "      <td>NaN</td>\n",
       "      <td>NaN</td>\n",
       "      <td>NaN</td>\n",
       "      <td>NaN</td>\n",
       "      <td>NaN</td>\n",
       "      <td>NaN</td>\n",
       "      <td>NaN</td>\n",
       "      <td>NaN</td>\n",
       "    </tr>\n",
       "    <tr>\n",
       "      <th>min</th>\n",
       "      <td>0.000000</td>\n",
       "      <td>1.000000</td>\n",
       "      <td>NaN</td>\n",
       "      <td>0.420000</td>\n",
       "      <td>0.000000</td>\n",
       "      <td>0.000000</td>\n",
       "      <td>0.000000</td>\n",
       "      <td>NaN</td>\n",
       "      <td>NaN</td>\n",
       "      <td>NaN</td>\n",
       "      <td>NaN</td>\n",
       "      <td>NaN</td>\n",
       "      <td>NaN</td>\n",
       "      <td>NaN</td>\n",
       "      <td>NaN</td>\n",
       "    </tr>\n",
       "    <tr>\n",
       "      <th>25%</th>\n",
       "      <td>0.000000</td>\n",
       "      <td>2.000000</td>\n",
       "      <td>NaN</td>\n",
       "      <td>20.125000</td>\n",
       "      <td>0.000000</td>\n",
       "      <td>0.000000</td>\n",
       "      <td>7.910400</td>\n",
       "      <td>NaN</td>\n",
       "      <td>NaN</td>\n",
       "      <td>NaN</td>\n",
       "      <td>NaN</td>\n",
       "      <td>NaN</td>\n",
       "      <td>NaN</td>\n",
       "      <td>NaN</td>\n",
       "      <td>NaN</td>\n",
       "    </tr>\n",
       "    <tr>\n",
       "      <th>50%</th>\n",
       "      <td>0.000000</td>\n",
       "      <td>3.000000</td>\n",
       "      <td>NaN</td>\n",
       "      <td>28.000000</td>\n",
       "      <td>0.000000</td>\n",
       "      <td>0.000000</td>\n",
       "      <td>14.454200</td>\n",
       "      <td>NaN</td>\n",
       "      <td>NaN</td>\n",
       "      <td>NaN</td>\n",
       "      <td>NaN</td>\n",
       "      <td>NaN</td>\n",
       "      <td>NaN</td>\n",
       "      <td>NaN</td>\n",
       "      <td>NaN</td>\n",
       "    </tr>\n",
       "    <tr>\n",
       "      <th>75%</th>\n",
       "      <td>1.000000</td>\n",
       "      <td>3.000000</td>\n",
       "      <td>NaN</td>\n",
       "      <td>38.000000</td>\n",
       "      <td>1.000000</td>\n",
       "      <td>0.000000</td>\n",
       "      <td>31.000000</td>\n",
       "      <td>NaN</td>\n",
       "      <td>NaN</td>\n",
       "      <td>NaN</td>\n",
       "      <td>NaN</td>\n",
       "      <td>NaN</td>\n",
       "      <td>NaN</td>\n",
       "      <td>NaN</td>\n",
       "      <td>NaN</td>\n",
       "    </tr>\n",
       "    <tr>\n",
       "      <th>max</th>\n",
       "      <td>1.000000</td>\n",
       "      <td>3.000000</td>\n",
       "      <td>NaN</td>\n",
       "      <td>80.000000</td>\n",
       "      <td>8.000000</td>\n",
       "      <td>6.000000</td>\n",
       "      <td>512.329200</td>\n",
       "      <td>NaN</td>\n",
       "      <td>NaN</td>\n",
       "      <td>NaN</td>\n",
       "      <td>NaN</td>\n",
       "      <td>NaN</td>\n",
       "      <td>NaN</td>\n",
       "      <td>NaN</td>\n",
       "      <td>NaN</td>\n",
       "    </tr>\n",
       "  </tbody>\n",
       "</table>\n",
       "</div>"
      ]
     },
     "execution_count": 6,
     "metadata": {},
     "output_type": "execute_result"
    }
   ],
   "execution_count": 6
  },
  {
   "cell_type": "markdown",
   "metadata": {
    "id": "9DCV2YuJ8E7w"
   },
   "source": [
    "# Data Cleaning"
   ]
  },
  {
   "cell_type": "markdown",
   "metadata": {
    "id": "KLBWaXok8PAE"
   },
   "source": [
    "\n",
    "\n",
    "> Handle missing values by filling or dropping columns. The median fills in missing ages, the mode fills in missing embarkations, and columns with too many missing values are removed.\n",
    "\n"
   ]
  },
  {
   "cell_type": "code",
   "metadata": {
    "colab": {
     "base_uri": "https://localhost:8080/"
    },
    "id": "IcbPz-HZ8HCA",
    "outputId": "2130a27b-5d56-4246-bbcb-31ae902d51ba",
    "ExecuteTime": {
     "end_time": "2024-11-30T17:55:46.742229Z",
     "start_time": "2024-11-30T17:55:46.736279Z"
    }
   },
   "source": [
    "# Check for missing values\n",
    "print(titanic.isnull().sum())"
   ],
   "outputs": [
    {
     "name": "stdout",
     "output_type": "stream",
     "text": [
      "survived         0\n",
      "pclass           0\n",
      "sex              0\n",
      "age            177\n",
      "sibsp            0\n",
      "parch            0\n",
      "fare             0\n",
      "embarked         2\n",
      "class            0\n",
      "who              0\n",
      "adult_male       0\n",
      "deck           688\n",
      "embark_town      2\n",
      "alive            0\n",
      "alone            0\n",
      "dtype: int64\n"
     ]
    }
   ],
   "execution_count": 7
  },
  {
   "cell_type": "code",
   "metadata": {
    "id": "hMDm-aDo8Iwl",
    "ExecuteTime": {
     "end_time": "2024-11-30T17:56:15.757052Z",
     "start_time": "2024-11-30T17:56:15.751548Z"
    }
   },
   "source": [
    "# Fill missing 'age' with the median value\n",
    "titanic.fillna({'age': titanic['age'].median()}, inplace=True)"
   ],
   "outputs": [],
   "execution_count": 9
  },
  {
   "cell_type": "code",
   "metadata": {
    "id": "BLrrMaGj8J39",
    "ExecuteTime": {
     "end_time": "2024-11-30T17:56:47.970535Z",
     "start_time": "2024-11-30T17:56:47.963949Z"
    }
   },
   "source": [
    "# Fill missing 'embarked' with the mode\n",
    "titanic.fillna({'embarked':titanic['embarked'].mode()[0]}, inplace=True)"
   ],
   "outputs": [],
   "execution_count": 10
  },
  {
   "cell_type": "code",
   "metadata": {
    "id": "fOLUWj_d8K0S",
    "ExecuteTime": {
     "end_time": "2024-11-30T17:56:52.730634Z",
     "start_time": "2024-11-30T17:56:52.724587Z"
    }
   },
   "source": [
    "# Drop the 'deck' column due to many missing values\n",
    "titanic.drop(columns=['deck'], inplace=True)"
   ],
   "outputs": [],
   "execution_count": 11
  },
  {
   "cell_type": "code",
   "metadata": {
    "id": "C1QWiTvo8L0h",
    "ExecuteTime": {
     "end_time": "2024-11-30T17:57:01.656497Z",
     "start_time": "2024-11-30T17:57:01.649714Z"
    }
   },
   "source": [
    "# Drop rows with missing 'embark_town'\n",
    "titanic.dropna(subset=['embark_town'], inplace=True)"
   ],
   "outputs": [],
   "execution_count": 12
  },
  {
   "cell_type": "code",
   "metadata": {
    "colab": {
     "base_uri": "https://localhost:8080/"
    },
    "id": "ITM1uLGQ40rj",
    "outputId": "5ed2efe1-5a61-40cf-e43f-5780b8d0482e",
    "ExecuteTime": {
     "end_time": "2024-11-30T17:57:38.407416Z",
     "start_time": "2024-11-30T17:57:38.400457Z"
    }
   },
   "source": [
    "# Verify data cleaning\n",
    "print(titanic.isnull().sum())"
   ],
   "outputs": [
    {
     "name": "stdout",
     "output_type": "stream",
     "text": [
      "survived       0\n",
      "pclass         0\n",
      "sex            0\n",
      "age            0\n",
      "sibsp          0\n",
      "parch          0\n",
      "fare           0\n",
      "embarked       0\n",
      "class          0\n",
      "who            0\n",
      "adult_male     0\n",
      "embark_town    0\n",
      "alive          0\n",
      "alone          0\n",
      "dtype: int64\n"
     ]
    }
   ],
   "execution_count": 13
  },
  {
   "cell_type": "markdown",
   "metadata": {
    "id": "f8TCzoUF8RXz"
   },
   "source": [
    "# Exploratory Data Analysis (EDA)"
   ]
  },
  {
   "cell_type": "markdown",
   "metadata": {
    "id": "-Bm8go429AdM"
   },
   "source": [
    "Distribution of passenger ages"
   ]
  },
  {
   "cell_type": "code",
   "metadata": {
    "colab": {
     "base_uri": "https://localhost:8080/",
     "height": 487
    },
    "id": "-hgAvBDK8M_C",
    "outputId": "477a6fa9-9100-4bb3-8c89-5de9bd411cb6",
    "ExecuteTime": {
     "end_time": "2024-11-30T17:57:45.697075Z",
     "start_time": "2024-11-30T17:57:45.264262Z"
    }
   },
   "source": [
    "plt.figure(figsize=(8, 5))\n",
    "sns.histplot(titanic['age'], bins=30, kde=True)\n",
    "plt.title('Age Distribution of Passengers')\n",
    "plt.xlabel('Age')\n",
    "plt.ylabel('Frequency')\n",
    "plt.show()"
   ],
   "outputs": [
    {
     "data": {
      "text/plain": [
       "<Figure size 800x500 with 1 Axes>"
      ],
      "image/png": "[encoded data removed]"
     },
     "metadata": {},
     "output_type": "display_data"
    }
   ],
   "execution_count": 14
  },
  {
   "cell_type": "markdown",
   "metadata": {
    "id": "me-FNQF98W2Q"
   },
   "source": [
    "\n",
    "\n",
    "> Visualize the age distribution of passengers to understand the age range and identify common age groups using a histogram.\n",
    "\n"
   ]
  },
  {
   "cell_type": "markdown",
   "metadata": {
    "id": "T25o29wF8-Dc"
   },
   "source": [
    "Survival count by gender"
   ]
  },
  {
   "cell_type": "code",
   "execution_count": null,
   "metadata": {
    "colab": {
     "base_uri": "https://localhost:8080/",
     "height": 487
    },
    "id": "gxCn1YWJ8T-r",
    "outputId": "7094b83f-e7a3-4ef2-a307-4ad693fea930"
   },
   "outputs": [],
   "source": [
    "plt.figure(figsize=(8, 5))\n",
    "sns.countplot(x='sex', hue='survived', data=titanic)\n",
    "plt.title('Survival Count by Gender')\n",
    "plt.xlabel('Gender')\n",
    "plt.ylabel('Count')\n",
    "plt.show()"
   ]
  },
  {
   "cell_type": "markdown",
   "metadata": {
    "id": "_HhLWuNu875N"
   },
   "source": [
    "\n",
    "\n",
    "> A count plot shows the survival distribution based on gender, indicating which gender had a higher survival rate.\n",
    "\n"
   ]
  },
  {
   "cell_type": "markdown",
   "metadata": {
    "id": "7Bi3zoLT9OYd"
   },
   "source": [
    "Correlation matrix heatmap"
   ]
  },
  {
   "cell_type": "code",
   "execution_count": null,
   "metadata": {
    "colab": {
     "base_uri": "https://localhost:8080/",
     "height": 545
    },
    "id": "VD1llUi186Y6",
    "outputId": "fdaedcdb-7e95-4586-ac1b-e00437062c1b"
   },
   "outputs": [],
   "source": [
    "# Select only numerical columns for the correlation matrix\n",
    "numerical_titanic = titanic.select_dtypes(include=['float64', 'int64'])\n",
    "\n",
    "# Compute the correlation matrix\n",
    "corr = numerical_titanic.corr()\n",
    "\n",
    "# Plot the heatmap\n",
    "plt.figure(figsize=(10, 6))\n",
    "sns.heatmap(corr, annot=True, cmap='coolwarm')\n",
    "plt.title('Correlation Matrix of Titanic Dataset')\n",
    "plt.show()"
   ]
  },
  {
   "cell_type": "markdown",
   "metadata": {
    "id": "HSVF1C9R9Qy0"
   },
   "source": [
    "\n",
    "\n",
    "> The heatmap visualizes correlations between numerical features, helping to identify relationships that may influence survival.\n",
    "\n"
   ]
  },
  {
   "cell_type": "markdown",
   "metadata": {
    "id": "xIJsDpXP9bUg"
   },
   "source": [
    "Survival by class"
   ]
  },
  {
   "cell_type": "code",
   "execution_count": null,
   "metadata": {
    "colab": {
     "base_uri": "https://localhost:8080/",
     "height": 487
    },
    "id": "TMwlsKBa9YSH",
    "outputId": "c99c453d-a94f-4cea-fc37-f2345d881192"
   },
   "outputs": [],
   "source": [
    "plt.figure(figsize=(8, 5))\n",
    "sns.barplot(x='pclass', y='survived', data=titanic)\n",
    "plt.title('Survival Rate by Passenger Class')\n",
    "plt.xlabel('Passenger Class')\n",
    "plt.ylabel('Survival Rate')\n",
    "plt.show()"
   ]
  },
  {
   "cell_type": "markdown",
   "metadata": {
    "id": "YH7FI_Z19eF4"
   },
   "source": [
    "\n",
    "\n",
    "> A bar plot shows how survival rates vary by passenger class, highlighting the impact of socio-economic status.\n",
    "\n"
   ]
  },
  {
   "cell_type": "markdown",
   "metadata": {
    "id": "wHEBPPfy9gzX"
   },
   "source": [
    "Survival based on fare"
   ]
  },
  {
   "cell_type": "code",
   "execution_count": null,
   "metadata": {
    "colab": {
     "base_uri": "https://localhost:8080/",
     "height": 487
    },
    "id": "gHDea9tX9YQJ",
    "outputId": "7f30d261-a857-4126-feea-5cdd9e3e0055"
   },
   "outputs": [],
   "source": [
    "\n",
    "plt.figure(figsize=(8, 5))\n",
    "sns.boxplot(x='survived', y='fare', data=titanic)\n",
    "plt.title('Fare Distribution by Survival')\n",
    "plt.xlabel('Survived')\n",
    "plt.ylabel('Fare')\n",
    "plt.show()\n"
   ]
  },
  {
   "cell_type": "markdown",
   "metadata": {
    "id": "D_XpmTpS9j1V"
   },
   "source": [
    "\n",
    "\n",
    "> A box plot illustrates how fares correlate with survival, indicating whether higher fare passengers had better survival chances.\n",
    "\n"
   ]
  },
  {
   "cell_type": "markdown",
   "metadata": {
    "id": "4aUDeFVf9orv"
   },
   "source": [
    "# Feature Engineering"
   ]
  },
  {
   "cell_type": "markdown",
   "metadata": {
    "id": "JseQm-T99vMb"
   },
   "source": [
    "\n",
    "\n",
    "> New features family_size (number of siblings/spouses and parents/children) and is_alone (binary indicator if the passenger was alone) are added to provide more insights.\n",
    "\n"
   ]
  },
  {
   "cell_type": "code",
   "execution_count": null,
   "metadata": {
    "id": "ETA3dlXN9r82"
   },
   "outputs": [],
   "source": [
    "# Create a new feature: Family size\n",
    "titanic['family_size'] = titanic['sibsp'] + titanic['parch']"
   ]
  },
  {
   "cell_type": "code",
   "execution_count": null,
   "metadata": {
    "id": "1pONkVKJ9sxp"
   },
   "outputs": [],
   "source": [
    "# Create a new feature: Is alone\n",
    "titanic['is_alone'] = np.where(titanic['family_size'] > 0, 0, 1)"
   ]
  },
  {
   "cell_type": "code",
   "execution_count": null,
   "metadata": {
    "colab": {
     "base_uri": "https://localhost:8080/"
    },
    "id": "IakxvX8T9YOE",
    "outputId": "d86d3707-fb46-4f61-b2ef-4acca6288d62"
   },
   "outputs": [],
   "source": [
    "# Display new features\n",
    "print(titanic[['family_size', 'is_alone']].head())"
   ]
  },
  {
   "cell_type": "markdown",
   "metadata": {
    "id": "TJLIqrTx-AQa"
   },
   "source": [
    "# Additional Data Visualizations"
   ]
  },
  {
   "cell_type": "markdown",
   "metadata": {
    "id": "H_CNUh0w-DJg"
   },
   "source": [
    "Survival rate by family size"
   ]
  },
  {
   "cell_type": "code",
   "execution_count": null,
   "metadata": {
    "colab": {
     "base_uri": "https://localhost:8080/",
     "height": 487
    },
    "id": "sTHGOPSt-AEJ",
    "outputId": "62cfef0d-4b50-4e14-f3d2-b79862f0d723"
   },
   "outputs": [],
   "source": [
    "plt.figure(figsize=(8, 5))\n",
    "sns.barplot(x='family_size', y='survived', data=titanic)\n",
    "plt.title('Survival Rate by Family Size')\n",
    "plt.xlabel('Family Size')\n",
    "plt.ylabel('Survival Rate')\n",
    "plt.show()"
   ]
  },
  {
   "cell_type": "markdown",
   "metadata": {
    "id": "cZRq8ss7-Fqu"
   },
   "source": [
    "\n",
    "\n",
    "> A bar plot shows how the number of family members affects the likelihood of survival.\n",
    "\n"
   ]
  },
  {
   "cell_type": "markdown",
   "metadata": {
    "id": "lbVT3-84-Ir5"
   },
   "source": [
    "Distribution of passengers by embark town"
   ]
  },
  {
   "cell_type": "code",
   "execution_count": null,
   "metadata": {
    "colab": {
     "base_uri": "https://localhost:8080/",
     "height": 487
    },
    "id": "-s_qSm9q-EG0",
    "outputId": "e476ce57-d1b7-4835-9121-412f0e9237d4"
   },
   "outputs": [],
   "source": [
    "plt.figure(figsize=(8, 5))\n",
    "sns.countplot(x='embark_town', data=titanic)\n",
    "plt.title('Passenger Count by Embark Town')\n",
    "plt.xlabel('Embark Town')\n",
    "plt.ylabel('Count')\n",
    "plt.show()"
   ]
  },
  {
   "cell_type": "markdown",
   "metadata": {
    "id": "MhkwLEvy-LT-"
   },
   "source": [
    "\n",
    "\n",
    "> A count plot to see where most passengers boarded, helping to understand the demographics of the Titanic passengers.\n",
    "\n"
   ]
  },
  {
   "cell_type": "markdown",
   "metadata": {
    "id": "ZnonH7IO-P0D"
   },
   "source": [
    "Survival rate by embark town"
   ]
  },
  {
   "cell_type": "code",
   "execution_count": null,
   "metadata": {
    "colab": {
     "base_uri": "https://localhost:8080/",
     "height": 487
    },
    "id": "iXpYEaBL-JiT",
    "outputId": "41b91ffa-211b-43b1-a473-254f1f36ea3c"
   },
   "outputs": [],
   "source": [
    "plt.figure(figsize=(8, 5))\n",
    "sns.barplot(x='embark_town', y='survived', data=titanic)\n",
    "plt.title('Survival Rate by Embark Town')\n",
    "plt.xlabel('Embark Town')\n",
    "plt.ylabel('Survival Rate')\n",
    "plt.show()"
   ]
  },
  {
   "cell_type": "markdown",
   "metadata": {
    "id": "QdPNaVP6-Sew"
   },
   "source": [
    "\n",
    "\n",
    "> A bar plot shows survival rates by embarkation town, suggesting geographical differences in survival chances.\n",
    "\n"
   ]
  },
  {
   "cell_type": "markdown",
   "metadata": {
    "id": "nd7HPGBP-Vnd"
   },
   "source": [
    "Age distribution by passenger class"
   ]
  },
  {
   "cell_type": "code",
   "execution_count": null,
   "metadata": {
    "colab": {
     "base_uri": "https://localhost:8080/",
     "height": 487
    },
    "id": "0fpD_nYE-Qfj",
    "outputId": "3ba19083-0e34-4ee9-c4f6-55605dfd16ac"
   },
   "outputs": [],
   "source": [
    "plt.figure(figsize=(8, 5))\n",
    "sns.violinplot(x='pclass', y='age', data=titanic)\n",
    "plt.title('Age Distribution by Passenger Class')\n",
    "plt.xlabel('Passenger Class')\n",
    "plt.ylabel('Age')\n",
    "plt.show()"
   ]
  },
  {
   "cell_type": "markdown",
   "metadata": {
    "id": "U5eEKkjd-XLp"
   },
   "source": [
    "\n",
    "\n",
    "> A violin plot shows the distribution of ages within each passenger class, indicating differences in age demographics among classes.\n",
    "\n"
   ]
  },
  {
   "cell_type": "markdown",
   "metadata": {
    "id": "7GkjOyOK-b9S"
   },
   "source": [
    "Fare distribution by passenger class"
   ]
  },
  {
   "cell_type": "code",
   "execution_count": null,
   "metadata": {
    "colab": {
     "base_uri": "https://localhost:8080/",
     "height": 487
    },
    "id": "eiIbr7ZU-VY9",
    "outputId": "e3e4b399-b385-4d1c-a037-0a1c7f51017a"
   },
   "outputs": [],
   "source": [
    "plt.figure(figsize=(8, 5))\n",
    "sns.boxplot(x='pclass', y='fare', data=titanic)\n",
    "plt.title('Fare Distribution by Passenger Class')\n",
    "plt.xlabel('Passenger Class')\n",
    "plt.ylabel('Fare')\n",
    "plt.show()"
   ]
  },
  {
   "cell_type": "markdown",
   "metadata": {
    "id": "tT2vVnpO-dNr"
   },
   "source": [
    "\n",
    "\n",
    "> This box plot shows how fares varied among passenger classes, indicating economic differences in ticket pricing.\n",
    "\n"
   ]
  },
  {
   "cell_type": "markdown",
   "metadata": {
    "id": "8PQyzNhEbOYb"
   },
   "source": [
    "# Summary of Analysis"
   ]
  },
  {
   "cell_type": "markdown",
   "metadata": {
    "id": "kfqc1y5ubPRp"
   },
   "source": [
    "\n",
    "\n",
    "*   **Age Distribution**: Most passengers were young adults, with a significant number of children and elderly individuals.\n",
    "\n",
    "*   **Gender and Survival**: Women had a higher survival rate compared to men, reflecting the \"women and children first\" policy.\n",
    "\n",
    "*   **Passenger Class and Survival**: First-class passengers had higher survival rates than those in lower classes, showing a class-based disparity in survival chances.\n",
    "\n",
    "*   **Fare Influence**: Higher fare payments correlated with better survival odds, likely due to better access to lifeboats.\n",
    "*   List item\n",
    "\n",
    "\n",
    "*   **Family Size and Survival**: Moderate family sizes had higher survival rates; passengers traveling alone had lower survival chances.\n",
    "\n",
    "\n",
    "*   **Embarkation Town**: Passengers who embarked at certain towns had varying survival rates, potentially reflecting different socioeconomic backgrounds.\n",
    "\n"
   ]
  }
 ],
 "metadata": {
  "colab": {
   "collapsed_sections": [
    "G35a-O06Agdz",
    "b-O9Bvr04zPS",
    "9DCV2YuJ8E7w",
    "f8TCzoUF8RXz",
    "4aUDeFVf9orv",
    "TJLIqrTx-AQa",
    "8PQyzNhEbOYb"
   ],
   "provenance": []
  },
  "kernelspec": {
   "display_name": "Python 3 (ipykernel)",
   "language": "python",
   "name": "python3"
  },
  "language_info": {
   "codemirror_mode": {
    "name": "ipython",
    "version": 3
   },
   "file_extension": ".py",
   "mimetype": "text/x-python",
   "name": "python",
   "nbconvert_exporter": "python",
   "pygments_lexer": "ipython3",
   "version": "3.12.7"
  }
 },
 "nbformat": 4,
 "nbformat_minor": 4
}
