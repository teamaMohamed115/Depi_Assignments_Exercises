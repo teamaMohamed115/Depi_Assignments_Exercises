{
 "cells": [
  {
   "cell_type": "markdown",
   "metadata": {
    "id": "rJZ4NqlnJAkh"
   },
   "source": [
    "# Introduction to Matplotlib"
   ]
  },
  {
   "cell_type": "markdown",
   "metadata": {
    "id": "skavfFe1JHLz"
   },
   "source": [
    "**Basic Plotting with Matplotlib**"
   ]
  },
  {
   "cell_type": "markdown",
   "metadata": {
    "id": "Lqpz1tXBJKMM"
   },
   "source": [
    "Line Plot"
   ]
  },
  {
   "cell_type": "code",
   "execution_count": null,
   "metadata": {
    "colab": {
     "base_uri": "https://localhost:8080/",
     "height": 472
    },
    "id": "ugqyJ6aKHTRl",
    "outputId": "f03526e8-95da-4cf0-86e3-3481bb926cf5"
   },
   "outputs": [],
   "source": [
    "import matplotlib.pyplot as plt\n",
    "\n",
    "# Sample data\n",
    "x = [1, 2, 3, 4, 5]\n",
    "y = [2, 3, 5, 7, 11]\n",
    "\n",
    "# Create a line plot\n",
    "plt.plot(x, y)\n",
    "plt.title(\"Simple Line Plot\")\n",
    "plt.xlabel(\"X-axis\")\n",
    "plt.ylabel(\"Y-axis\")\n",
    "plt.show()"
   ]
  },
  {
   "cell_type": "markdown",
   "metadata": {
    "id": "MtDUUIV-JMpq"
   },
   "source": [
    "Scatter Plot"
   ]
  },
  {
   "cell_type": "code",
   "execution_count": null,
   "metadata": {
    "colab": {
     "base_uri": "https://localhost:8080/",
     "height": 472
    },
    "id": "GPTPJpEiJNc1",
    "outputId": "ee55312f-fa89-48d9-ee2e-060fb316d29e"
   },
   "outputs": [],
   "source": [
    "x = [5, 7, 8, 7, 2, 17, 2, 9]\n",
    "y = [99, 86, 87, 88, 100, 86, 103, 87]\n",
    "\n",
    "plt.scatter(x, y)\n",
    "plt.title(\"Simple Scatter Plot\")\n",
    "plt.xlabel(\"X-axis\")\n",
    "plt.ylabel(\"Y-axis\")\n",
    "plt.show()\n"
   ]
  },
  {
   "cell_type": "markdown",
   "metadata": {
    "id": "4q0ccAYPJPTb"
   },
   "source": [
    "Bar Chart"
   ]
  },
  {
   "cell_type": "code",
   "execution_count": null,
   "metadata": {
    "colab": {
     "base_uri": "https://localhost:8080/",
     "height": 472
    },
    "id": "9O5nqw7RJQF9",
    "outputId": "2c75c26d-ac1d-49c7-f6fb-e0f909b86430"
   },
   "outputs": [],
   "source": [
    "categories = ['A', 'B', 'C', 'D']\n",
    "values = [4, 7, 1, 8]\n",
    "\n",
    "plt.bar(categories, values, color='blue')\n",
    "plt.title(\"Simple Bar Chart\")\n",
    "plt.xlabel(\"Categories\")\n",
    "plt.ylabel(\"Values\")\n",
    "plt.show()\n"
   ]
  },
  {
   "cell_type": "markdown",
   "metadata": {
    "id": "b262fbamJRe-"
   },
   "source": [
    "Histogram"
   ]
  },
  {
   "cell_type": "code",
   "execution_count": null,
   "metadata": {
    "colab": {
     "base_uri": "https://localhost:8080/",
     "height": 472
    },
    "id": "K8vpUBCfJSef",
    "outputId": "4b90d807-a151-4fbf-f636-cf4e825f7654"
   },
   "outputs": [],
   "source": [
    "data = [1, 2, 2, 3, 3, 3, 4, 4, 4, 4, 5, 5, 5, 5, 5]\n",
    "\n",
    "plt.hist(data, bins=5, color='green')\n",
    "plt.title(\"Simple Histogram\")\n",
    "plt.xlabel(\"Bins\")\n",
    "plt.ylabel(\"Frequency\")\n",
    "plt.show()\n"
   ]
  },
  {
   "cell_type": "markdown",
   "metadata": {
    "id": "PsABgIk3JVn6"
   },
   "source": [
    "Subplots"
   ]
  },
  {
   "cell_type": "code",
   "execution_count": null,
   "metadata": {
    "colab": {
     "base_uri": "https://localhost:8080/",
     "height": 452
    },
    "id": "01oCPXj0JVi6",
    "outputId": "c408b853-3a91-401b-a4f5-3d99763a4379"
   },
   "outputs": [],
   "source": [
    "x = [1, 2, 3, 4, 5]\n",
    "y1 = [1, 4, 9, 16, 25]\n",
    "y2 = [1, 2, 3, 4, 5]\n",
    "\n",
    "plt.subplot(1, 2, 1)\n",
    "plt.plot(x, y1, 'r-')\n",
    "plt.title(\"Plot 1\")\n",
    "\n",
    "plt.subplot(1, 2, 2)\n",
    "plt.plot(x, y2, 'g-')\n",
    "plt.title(\"Plot 2\")\n",
    "\n",
    "plt.show()\n"
   ]
  },
  {
   "cell_type": "markdown",
   "metadata": {
    "id": "gg0954sZJDDy"
   },
   "source": [
    "# Introduction to Seaborn"
   ]
  },
  {
   "cell_type": "markdown",
   "metadata": {
    "id": "5mKpxmxtM4oh"
   },
   "source": [
    "**Basic Plotting with Seaborn**"
   ]
  },
  {
   "cell_type": "markdown",
   "metadata": {
    "id": "2k_1elrYM6V-"
   },
   "source": [
    "Line Plot"
   ]
  },
  {
   "cell_type": "code",
   "execution_count": null,
   "metadata": {
    "colab": {
     "base_uri": "https://localhost:8080/",
     "height": 472
    },
    "id": "O3a-9e7iM3i1",
    "outputId": "66dfa506-26a0-4e29-bbbd-0ab71f7a0db3"
   },
   "outputs": [],
   "source": [
    "import seaborn as sns\n",
    "import matplotlib.pyplot as plt\n",
    "\n",
    "data = sns.load_dataset('tips')\n",
    "sns.lineplot(x='total_bill', y='tip', data=data)\n",
    "plt.title(\"Line Plot with Seaborn\")\n",
    "plt.show()\n"
   ]
  },
  {
   "cell_type": "markdown",
   "metadata": {
    "id": "wQ7xUSn0NAMj"
   },
   "source": [
    "Scatter Plot with Regression Line"
   ]
  },
  {
   "cell_type": "code",
   "execution_count": null,
   "metadata": {
    "colab": {
     "base_uri": "https://localhost:8080/",
     "height": 529
    },
    "id": "B3Ce_Y17M3g1",
    "outputId": "e9d00370-d982-49eb-a57d-a09768e5885a"
   },
   "outputs": [],
   "source": [
    "sns.lmplot(x='total_bill', y='tip', data=data)\n",
    "plt.title(\"Scatter Plot with Regression Line\")\n",
    "plt.show()\n"
   ]
  },
  {
   "cell_type": "markdown",
   "metadata": {
    "id": "1IYfKUPcNDXo"
   },
   "source": [
    "Bar Plot"
   ]
  },
  {
   "cell_type": "code",
   "execution_count": null,
   "metadata": {
    "colab": {
     "base_uri": "https://localhost:8080/",
     "height": 472
    },
    "id": "TJB57S85M3ei",
    "outputId": "a1749703-ba6d-4870-b3a2-0a4c18074f78"
   },
   "outputs": [],
   "source": [
    "sns.barplot(x='day', y='total_bill', data=data)\n",
    "plt.title(\"Bar Plot\")\n",
    "plt.show()\n"
   ]
  },
  {
   "cell_type": "markdown",
   "metadata": {
    "id": "aiaJZEYuNF8h"
   },
   "source": [
    "Box Plot"
   ]
  },
  {
   "cell_type": "code",
   "execution_count": null,
   "metadata": {
    "colab": {
     "base_uri": "https://localhost:8080/",
     "height": 472
    },
    "id": "jPixA86uM3cR",
    "outputId": "32ed082f-5b82-42de-e9e9-c95d5d859b84"
   },
   "outputs": [],
   "source": [
    "sns.boxplot(x='day', y='total_bill', data=data)\n",
    "plt.title(\"Box Plot\")\n",
    "plt.show()\n"
   ]
  },
  {
   "cell_type": "markdown",
   "metadata": {
    "id": "n-zvnOhfNJ1R"
   },
   "source": [
    "Heatmap"
   ]
  },
  {
   "cell_type": "code",
   "execution_count": null,
   "metadata": {
    "colab": {
     "base_uri": "https://localhost:8080/",
     "height": 452
    },
    "id": "IGvaTgPQJE52",
    "outputId": "50b55ebd-ef76-4a1f-c32c-fc1a1425792f"
   },
   "outputs": [],
   "source": [
    "# Load a dataset using Seaborn\n",
    "data = sns.load_dataset('tips')  # 'tips' is a built-in dataset in Seaborn\n",
    "\n",
    "# Select only the numerical columns\n",
    "numerical_data = data.select_dtypes(include=['float64', 'int64'])\n",
    "\n",
    "# Compute the correlation matrix\n",
    "corr = numerical_data.corr()\n",
    "\n",
    "# Plot the heatmap\n",
    "sns.heatmap(corr, annot=True, cmap='coolwarm')\n",
    "plt.title(\"Heatmap of Correlation Matrix\")\n",
    "plt.show()\n"
   ]
  },
  {
   "cell_type": "markdown",
   "metadata": {
    "id": "GlXumEoMJFop"
   },
   "source": [
    "# Practical Visualization Examples"
   ]
  },
  {
   "cell_type": "markdown",
   "metadata": {
    "id": "Z2yvldOIQ_Ck"
   },
   "source": [
    "Line Plot to Show Trends Over Time"
   ]
  },
  {
   "cell_type": "code",
   "execution_count": null,
   "metadata": {
    "colab": {
     "base_uri": "https://localhost:8080/",
     "height": 472
    },
    "id": "-2iPcstCJFfa",
    "outputId": "c45269d9-654c-44e2-9daa-ec088c6bf40c"
   },
   "outputs": [],
   "source": [
    "import seaborn as sns\n",
    "import matplotlib.pyplot as plt\n",
    "\n",
    "# Load the 'flights' dataset\n",
    "data = sns.load_dataset('flights')\n",
    "\n",
    "# Line plot showing the number of passengers over time\n",
    "sns.lineplot(x='year', y='passengers', data=data)\n",
    "plt.title(\"Number of Passengers Over Time\")\n",
    "plt.xlabel(\"Year\")\n",
    "plt.ylabel(\"Number of Passengers\")\n",
    "plt.show()"
   ]
  },
  {
   "cell_type": "markdown",
   "metadata": {
    "id": "QBZ4FTQeRCG1"
   },
   "source": [
    "Scatter Plot to Visualize Relationships Between Two Variables"
   ]
  },
  {
   "cell_type": "code",
   "execution_count": null,
   "metadata": {
    "colab": {
     "base_uri": "https://localhost:8080/",
     "height": 472
    },
    "id": "pvoTDhahOWIP",
    "outputId": "481b79c1-0f4f-4820-861d-0f124e63f378"
   },
   "outputs": [],
   "source": [
    "# Load the 'tips' dataset\n",
    "data = sns.load_dataset('tips')\n",
    "\n",
    "# Scatter plot showing the relationship between total bill and tip\n",
    "sns.scatterplot(x='total_bill', y='tip', data=data)\n",
    "plt.title(\"Total Bill vs. Tip\")\n",
    "plt.xlabel(\"Total Bill\")\n",
    "plt.ylabel(\"Tip\")\n",
    "plt.show()\n"
   ]
  },
  {
   "cell_type": "markdown",
   "metadata": {
    "id": "h5t1aDkiRErS"
   },
   "source": [
    "Bar Plot to Show Categorical Data"
   ]
  },
  {
   "cell_type": "code",
   "execution_count": null,
   "metadata": {
    "colab": {
     "base_uri": "https://localhost:8080/",
     "height": 559
    },
    "id": "vm7Ko6bURDAt",
    "outputId": "a71869c6-65be-45ed-bb6c-d725cb364126"
   },
   "outputs": [],
   "source": [
    "# Bar plot showing the average tip by day\n",
    "sns.barplot(x='day', y='tip', data=data, estimator=sum, errorbar=None)\n",
    "plt.title(\"Total Tips by Day\")\n",
    "plt.xlabel(\"Day\")\n",
    "plt.ylabel(\"Total Tips\")\n",
    "plt.show()\n"
   ]
  },
  {
   "cell_type": "markdown",
   "metadata": {
    "id": "G9SgmZeIRHR8"
   },
   "source": [
    "Histogram to Show Data Distribution"
   ]
  },
  {
   "cell_type": "code",
   "execution_count": null,
   "metadata": {
    "colab": {
     "base_uri": "https://localhost:8080/",
     "height": 472
    },
    "id": "2nCitnjTRFre",
    "outputId": "ba89b992-90e6-4090-e4a9-1625b16590ed"
   },
   "outputs": [],
   "source": [
    "# Histogram of total bill amounts\n",
    "sns.histplot(data['total_bill'], bins=20, kde=True)\n",
    "plt.title(\"Distribution of Total Bill Amounts\")\n",
    "plt.xlabel(\"Total Bill\")\n",
    "plt.ylabel(\"Frequency\")\n",
    "plt.show()\n"
   ]
  },
  {
   "cell_type": "markdown",
   "metadata": {
    "id": "1VlQKymQRJwy"
   },
   "source": [
    "Box Plot to Visualize Distribution and Outliers"
   ]
  },
  {
   "cell_type": "code",
   "execution_count": null,
   "metadata": {
    "colab": {
     "base_uri": "https://localhost:8080/",
     "height": 472
    },
    "id": "ns3FksZdRILO",
    "outputId": "4b9d11e9-b438-4a61-e152-73531b56aa09"
   },
   "outputs": [],
   "source": [
    "# Box plot showing the distribution of total bill amounts by day\n",
    "sns.boxplot(x='day', y='total_bill', data=data)\n",
    "plt.title(\"Total Bill Distribution by Day\")\n",
    "plt.xlabel(\"Day\")\n",
    "plt.ylabel(\"Total Bill\")\n",
    "plt.show()\n"
   ]
  },
  {
   "cell_type": "markdown",
   "metadata": {
    "id": "s1BTInhuRS_0"
   },
   "source": [
    "Violin Plot to Show Density and Distribution"
   ]
  },
  {
   "cell_type": "code",
   "execution_count": null,
   "metadata": {
    "colab": {
     "base_uri": "https://localhost:8080/",
     "height": 472
    },
    "id": "Q6fKv2QnRLRu",
    "outputId": "d698e2f5-432f-48e7-a19d-8933b8bc70a3"
   },
   "outputs": [],
   "source": [
    "# Violin plot showing the distribution of total bill amounts by day\n",
    "sns.violinplot(x='day', y='total_bill', data=data)\n",
    "plt.title(\"Total Bill Distribution by Day (Violin Plot)\")\n",
    "plt.xlabel(\"Day\")\n",
    "plt.ylabel(\"Total Bill\")\n",
    "plt.show()\n"
   ]
  },
  {
   "cell_type": "markdown",
   "metadata": {
    "id": "nuDCBN--RVsT"
   },
   "source": [
    "Pair Plot to Show Pairwise Relationships"
   ]
  },
  {
   "cell_type": "code",
   "execution_count": null,
   "metadata": {
    "colab": {
     "base_uri": "https://localhost:8080/",
     "height": 787
    },
    "id": "hL_0seXFRT3d",
    "outputId": "7d4da557-6607-4617-98a2-0ff355752952"
   },
   "outputs": [],
   "source": [
    "# Pair plot showing pairwise relationships in the 'tips' dataset\n",
    "sns.pairplot(data)\n",
    "plt.suptitle(\"Pairwise Relationships in the Tips Dataset\", y=1.02)\n",
    "plt.show()\n"
   ]
  },
  {
   "cell_type": "markdown",
   "metadata": {
    "id": "szCIkPF7RdXK"
   },
   "source": [
    "Count Plot to Show the Frequency of Categorical Values"
   ]
  },
  {
   "cell_type": "code",
   "execution_count": null,
   "metadata": {
    "colab": {
     "base_uri": "https://localhost:8080/",
     "height": 472
    },
    "id": "yvx5jYkbRW3d",
    "outputId": "dd6b06d2-84e8-4161-e560-256228c1595a"
   },
   "outputs": [],
   "source": [
    "# Count plot showing the count of tips by day\n",
    "sns.countplot(x='day', data=data)\n",
    "plt.title(\"Count of Tips by Day\")\n",
    "plt.xlabel(\"Day\")\n",
    "plt.ylabel(\"Count\")\n",
    "plt.show()\n"
   ]
  },
  {
   "cell_type": "markdown",
   "metadata": {
    "id": "_FW3ndfFRfwN"
   },
   "source": [
    "Joint Plot to Show Distribution and Relationship"
   ]
  },
  {
   "cell_type": "code",
   "execution_count": null,
   "metadata": {
    "colab": {
     "base_uri": "https://localhost:8080/",
     "height": 633
    },
    "id": "W0iICEpeReYV",
    "outputId": "b451fa56-bc57-4f13-f82f-48f14eae31a7"
   },
   "outputs": [],
   "source": [
    "# Joint plot showing the distribution of total bill and tip amounts\n",
    "sns.jointplot(x='total_bill', y='tip', data=data, kind='scatter')\n",
    "plt.suptitle(\"Joint Distribution of Total Bill and Tip\", y=1.02)\n",
    "plt.show()\n"
   ]
  },
  {
   "cell_type": "code",
   "execution_count": null,
   "metadata": {},
   "outputs": [],
   "source": []
  }
 ],
 "metadata": {
  "colab": {
   "collapsed_sections": [
    "rJZ4NqlnJAkh",
    "gg0954sZJDDy",
    "GlXumEoMJFop"
   ],
   "provenance": []
  },
  "kernelspec": {
   "display_name": "Python 3 (ipykernel)",
   "language": "python",
   "name": "python3"
  },
  "language_info": {
   "codemirror_mode": {
    "name": "ipython",
    "version": 3
   },
   "file_extension": ".py",
   "mimetype": "text/x-python",
   "name": "python",
   "nbconvert_exporter": "python",
   "pygments_lexer": "ipython3",
   "version": "3.12.7"
  }
 },
 "nbformat": 4,
 "nbformat_minor": 4
}
