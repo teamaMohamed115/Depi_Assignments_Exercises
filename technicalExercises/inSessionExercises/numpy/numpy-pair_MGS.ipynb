{
 "cells": [
  {
   "cell_type": "markdown",
   "metadata": {},
   "source": [
    "# NumPy Pair Problem\n",
    "\n",
    "For today's pair, we will use NumPy to complete the following tasks consecutively."
   ]
  },
  {
   "cell_type": "code",
   "execution_count": 41,
   "metadata": {},
   "outputs": [],
   "source": [
    "import numpy as np\n",
    "\n",
    "# Set random seed so that results are reproducible \n",
    "np.random.seed(0)"
   ]
  },
  {
   "cell_type": "markdown",
   "metadata": {},
   "source": [
    "### 1. Generate three separate 1-dimensional arrays of 10,000 elements each.\n",
    "* Array 1 should contain numbers randomly drawn from the uniform distribution between 1 and 100\n",
    "* Array 2 should contain numbers randomly drawn from the normal distribution, with a mean of 0 and a standard deviation of 1\n",
    "* Array 3 should contain numbers randomly drawn from the binomial distribution, where n=10 and p=0.5"
   ]
  },
  {
   "cell_type": "code",
   "execution_count": 42,
   "metadata": {},
   "outputs": [
    {
     "name": "stdout",
     "output_type": "stream",
     "text": [
      "Array 1: [55.33253689 71.80374727 60.67357423 54.94343512 42.94182513]\n",
      "Array 2: [-0.72582032  0.56347552 -0.43563209 -0.10455255 -2.32127283]\n",
      "Array 3: [4 5 5 3 8]\n"
     ]
    }
   ],
   "source": [
    "uniform = np.random.uniform(1, 100, 10000)  \n",
    "normal = np.random.normal(0, 1, 10000)       \n",
    "binomial = np.random.binomial(10, 0.5, 10000) \n",
    "\n",
    "print(\"Array 1:\", uniform[:5])\n",
    "print(\"Array 2:\", normal[:5])\n",
    "print(\"Array 3:\", binomial[:5])"
   ]
  },
  {
   "cell_type": "markdown",
   "metadata": {},
   "source": [
    "### 2. For each array, randomly sample 1,000 rows without replacement. (hint: `np.random.choice()`)\n"
   ]
  },
  {
   "cell_type": "code",
   "execution_count": 43,
   "metadata": {},
   "outputs": [
    {
     "name": "stdout",
     "output_type": "stream",
     "text": [
      "Array 1: [25.78942307 22.82505784 72.23603848 73.69670482 29.80696432]\n",
      "Array 2: [-2.33277117  1.63920097 -1.08501398  0.06679293 -0.41540346]\n",
      "Array 3: [6 6 5 7 3]\n"
     ]
    }
   ],
   "source": [
    "\n",
    "uniform = np.random.choice(uniform, 1000, replace=False)\n",
    "normal = np.random.choice(normal, 1000, replace=False)\n",
    "binomial = np.random.choice(binomial, 1000, replace=False)\n",
    "\n",
    "print(\"Array 1:\", uniform[:5])\n",
    "print(\"Array 2:\", normal[:5])\n",
    "print(\"Array 3:\", binomial[:5])"
   ]
  },
  {
   "cell_type": "markdown",
   "metadata": {},
   "source": [
    "### 3. For each of the three samples:  \n",
    "- Calculate the mean, median, and standard deviation \n",
    "- Find the index and the value of the largest element (hint: `np.argmax()`)  \n",
    "- Find the value of the 75th percentile (hint: `np.percentile()`)  "
   ]
  },
  {
   "cell_type": "code",
   "execution_count": 44,
   "metadata": {},
   "outputs": [
    {
     "name": "stdout",
     "output_type": "stream",
     "text": [
      "255 628 7\n",
      "99.83117493278014 2.699568441630259 10\n",
      "75.20925502271464 0.6323050377198595 6.0\n"
     ]
    }
   ],
   "source": [
    "\n",
    "uniform_mean = np.mean(uniform)\n",
    "uniform_median = np.median(uniform)\n",
    "uniform_std = np.std(uniform)\n",
    "\n",
    "\n",
    "normal_mean = np.mean(normal)\n",
    "normal_median = np.median(normal)\n",
    "normal_std = np.std(normal)\n",
    "\n",
    "\n",
    "binomial_mean = np.mean(binomial)\n",
    "binomial_median = np.median(binomial)\n",
    "binomial_std = np.std(binomial)\n",
    "\n",
    "index_uniform = np.argmax(uniform)\n",
    "index_normal = np.argmax(normal)\n",
    "index_binomial = np.argmax(binomial)\n",
    "\n",
    "max_value_uniform = uniform[index_uniform]\n",
    "max_value_normal = normal[index_normal]\n",
    "max_value_binomial = binomial[index_binomial]\n",
    "\n",
    "\n",
    "print(index_uniform, index_normal, index_binomial)\n",
    "print(max_value_uniform, max_value_normal, max_value_binomial)\n",
    "\n",
    "\n",
    "percentile_75_uniform = np.percentile(uniform, 75)\n",
    "percentile_75_normal = np.percentile(normal, 75)\n",
    "percentile_75_binomial = np.percentile(binomial, 75)\n",
    "\n",
    "\n",
    "print(percentile_75_uniform, percentile_75_normal, percentile_75_binomial)\n",
    "\n"
   ]
  },
  {
   "cell_type": "markdown",
   "metadata": {},
   "source": [
    "### 4. Sort each of the three samples in increasing order, then combine them together to create a 1,000 by 3 array. (hint: `np.sort()` and `np.stack()`). Now, check the shape of the array."
   ]
  },
  {
   "cell_type": "code",
   "execution_count": 45,
   "metadata": {},
   "outputs": [
    {
     "data": {
      "text/plain": [
       "array([[ 1.1110819 , -3.69428529,  1.        ],\n",
       "       [ 1.13557152, -3.01787832,  1.        ],\n",
       "       [ 1.13695165, -2.92415314,  1.        ],\n",
       "       ...,\n",
       "       [99.57570491,  2.52860191,  9.        ],\n",
       "       [99.65852424,  2.55385416, 10.        ],\n",
       "       [99.83117493,  2.69956844, 10.        ]])"
      ]
     },
     "execution_count": 45,
     "metadata": {},
     "output_type": "execute_result"
    }
   ],
   "source": [
    "uniform_sorted=np.sort(uniform)\n",
    "normal_sorted=np.sort(normal)\n",
    "binomial_sorted=np.sort(binomial)\n",
    "\n",
    "combined=np.stack((uniform_sorted,normal_sorted,binomial_sorted),axis=1)\n",
    "combined"
   ]
  },
  {
   "cell_type": "code",
   "execution_count": 46,
   "metadata": {},
   "outputs": [
    {
     "data": {
      "text/plain": [
       "(1000, 3)"
      ]
     },
     "execution_count": 46,
     "metadata": {},
     "output_type": "execute_result"
    }
   ],
   "source": [
    "np.shape(combined)"
   ]
  },
  {
   "cell_type": "markdown",
   "metadata": {},
   "source": [
    "### 5. Replace all negative values with 0. Replace all values that exceed 10 with 10."
   ]
  },
  {
   "cell_type": "code",
   "execution_count": 53,
   "metadata": {},
   "outputs": [
    {
     "data": {
      "text/plain": [
       "array([[ 1.1110819 ,  0.        ,  1.        ],\n",
       "       [ 1.13557152,  0.        ,  1.        ],\n",
       "       [ 1.13695165,  0.        ,  1.        ],\n",
       "       ...,\n",
       "       [10.        ,  2.52860191,  9.        ],\n",
       "       [10.        ,  2.55385416, 10.        ],\n",
       "       [10.        ,  2.69956844, 10.        ]])"
      ]
     },
     "execution_count": 53,
     "metadata": {},
     "output_type": "execute_result"
    }
   ],
   "source": [
    "combined_replaced=np.where(combined<0,0,combined)\n",
    "combined_replaced=np.where(combined_replaced>10,10,combined_replaced)\n",
    "combined_replaced"
   ]
  },
  {
   "cell_type": "markdown",
   "metadata": {},
   "source": [
    "### 6. Subtract 5 from all values that exceed 5. (hint: `np.where()`)"
   ]
  },
  {
   "cell_type": "code",
   "execution_count": null,
   "metadata": {},
   "outputs": [
    {
     "data": {
      "text/plain": [
       "array([[1.1110819 , 0.        , 1.        ],\n",
       "       [1.13557152, 0.        , 1.        ],\n",
       "       [1.13695165, 0.        , 1.        ],\n",
       "       ...,\n",
       "       [5.        , 2.52860191, 4.        ],\n",
       "       [5.        , 2.55385416, 5.        ],\n",
       "       [5.        , 2.69956844, 5.        ]])"
      ]
     },
     "execution_count": 55,
     "metadata": {},
     "output_type": "execute_result"
    }
   ],
   "source": [
    "combined_replaced=np.where(combined_replaced>5,combined_replaced-5,combined_replaced)\n",
    "combined_replaced"
   ]
  },
  {
   "cell_type": "markdown",
   "metadata": {},
   "source": [
    "### 7. Produce a fourth column that is the sum of the first two columns.  (hint: `np.hstack()`). Now check the new shape of the array."
   ]
  },
  {
   "cell_type": "code",
   "execution_count": null,
   "metadata": {},
   "outputs": [
    {
     "data": {
      "text/plain": [
       "array([[1.1110819 , 0.        , 1.        , 1.1110819 ],\n",
       "       [1.13557152, 0.        , 1.        , 1.13557152],\n",
       "       [1.13695165, 0.        , 1.        , 1.13695165],\n",
       "       ...,\n",
       "       [5.        , 2.52860191, 4.        , 7.52860191],\n",
       "       [5.        , 2.55385416, 5.        , 7.55385416],\n",
       "       [5.        , 2.69956844, 5.        , 7.69956844]])"
      ]
     },
     "execution_count": 69,
     "metadata": {},
     "output_type": "execute_result"
    }
   ],
   "source": [
    "fourth_column = combined_replaced[:, 0] + combined_replaced[:, 1]\n",
    "\n",
    "np.shape(fourth_column)\n",
    "new_combined=np.hstack((combined_replaced,fourth_column.reshape(-1,1)))\n",
    "new_combined"
   ]
  },
  {
   "cell_type": "code",
   "execution_count": 70,
   "metadata": {},
   "outputs": [
    {
     "data": {
      "text/plain": [
       "(1000, 4)"
      ]
     },
     "execution_count": 70,
     "metadata": {},
     "output_type": "execute_result"
    }
   ],
   "source": [
    "np.shape(new_combined)"
   ]
  },
  {
   "cell_type": "markdown",
   "metadata": {},
   "source": [
    "### 8. Use broadcasting to add 1 to each element of the first column, 2 to each element of the second column, 3 to each element of the third column, and 4 to each element of the fourth column."
   ]
  },
  {
   "cell_type": "code",
   "execution_count": null,
   "metadata": {},
   "outputs": [
    {
     "data": {
      "text/plain": [
       "array([[ 2.1110819 ,  2.        ,  4.        ,  5.1110819 ],\n",
       "       [ 2.13557152,  2.        ,  4.        ,  5.13557152],\n",
       "       [ 2.13695165,  2.        ,  4.        ,  5.13695165],\n",
       "       ...,\n",
       "       [ 6.        ,  4.52860191,  7.        , 11.52860191],\n",
       "       [ 6.        ,  4.55385416,  8.        , 11.55385416],\n",
       "       [ 6.        ,  4.69956844,  8.        , 11.69956844]])"
      ]
     },
     "execution_count": 73,
     "metadata": {},
     "output_type": "execute_result"
    }
   ],
   "source": [
    "add_values = np.array([1, 2, 3, 4])\n",
    "new_combined += add_values\n",
    "new_combined"
   ]
  },
  {
   "cell_type": "markdown",
   "metadata": {},
   "source": [
    "### 9. Matrix multiply this 1000x4 array by a 4x1 array of ones. How many unique values are in the resulting product?  (hint: `np.unique()`)"
   ]
  },
  {
   "cell_type": "code",
   "execution_count": 78,
   "metadata": {},
   "outputs": [
    {
     "name": "stdout",
     "output_type": "stream",
     "text": [
      "[12.40598877 12.44779957 12.60215543 12.80197663 13.10944756 13.18789103\n",
      " 13.2221638  13.27114305 13.2739033  13.32939749 13.36328397 13.38833382\n",
      " 13.39124509 13.48477163 13.51906704 13.697767   13.76566562 13.7993105\n",
      " 14.04688247 14.11577459 14.11963723 14.24324801 14.63924238 15.01919689\n",
      " 15.09597644 15.24468195 15.32219202 15.47220317 15.52826745 15.57533602\n",
      " 16.70377048 16.73861175 16.86897105 16.95513744 17.01051989 17.01531534\n",
      " 17.05832279 17.09355034 17.11709453 17.23225581 17.25405543 17.52941705\n",
      " 17.59825782 17.61214826 17.70120428 17.98525494 18.14893279 18.23841362\n",
      " 18.52634811 18.53060273 18.63268897 18.69142712 18.6950651  18.70609017\n",
      " 18.90427349 18.9171343  19.21503471 19.30975336 19.51701738 19.69282114\n",
      " 19.74098426 19.86228632 19.88499246 19.93016433 19.98576973 20.03973659\n",
      " 20.04848176 20.19847198 20.22085276 20.27723587 20.45735955 20.51347508\n",
      " 20.8488449  21.00176228 21.0381574  21.17125467 21.50174397 21.5469433\n",
      " 21.62878051 21.73904983 21.74697006 21.75459633 21.75810058 21.76671046\n",
      " 21.76927813 21.76983869 21.77485308 21.78498592 21.80070871 21.81421349\n",
      " 21.82551157 21.82764383 21.82882102 21.84030511 21.84110096 21.86012987\n",
      " 21.86181452 21.86540644 21.86545964 21.86709927 21.87008946 21.88898614\n",
      " 21.90390531 21.90502889 21.90956731 21.91181351 21.92204574 21.92297579\n",
      " 21.92807034 21.93726199 21.94941218 21.96117011 21.96876327 21.9696095\n",
      " 21.97575405 21.98194115 21.98681031 21.98851183 21.99331177 21.99487649\n",
      " 21.9979488  22.00582893 22.01046996 22.01439799 22.02121111 22.02536238\n",
      " 22.03547561 22.04127396 22.04695743 22.0548771  22.05856493 22.06358036\n",
      " 22.06588531 22.0705929  22.07595015 22.07595733 22.07800219 22.07953024\n",
      " 22.084981   22.0862406  22.08904789 22.09000515 22.09025577 22.09171933\n",
      " 22.09534606 22.10413765 22.10823393 22.12695104 22.13460132 22.15309412\n",
      " 22.16231442 22.16360432 22.19385919 22.19626804 22.19832228 22.2062946\n",
      " 22.20883339 22.21085426 22.21146859 22.21764221 22.22080535 22.22918302\n",
      " 22.23195881 22.2387643  22.25305244 22.25554444 22.26442435 22.26516725\n",
      " 22.26581646 22.26657024 22.2783472  22.27917771 22.29048488 22.29082485\n",
      " 22.29146578 22.30606958 22.30863633 22.30892489 22.30967244 22.31185532\n",
      " 22.31625187 22.32254594 22.33208971 22.33906765 22.34115822 22.34121854\n",
      " 22.34486924 22.34786849 22.35746324 22.36102844 22.36995929 22.37663958\n",
      " 22.37871377 22.38335251 22.39780254 22.41094861 22.42874112 22.45245415\n",
      " 22.45381409 22.45620922 22.45778614 22.45792201 22.4700092  22.48734389\n",
      " 22.48857567 22.50020113 22.51852125 22.54035842 22.54449717 22.54627659\n",
      " 22.54760163 22.55081857 22.55148898 22.58164678 22.58226521 22.58256801\n",
      " 22.58930888 22.60685323 22.61348801 22.63225475 22.63709285 22.64964628\n",
      " 22.65834404 22.6815899  22.68199564 22.687895   22.6890677  22.69012811\n",
      " 22.69991888 22.69996836 22.71381951 22.71491861 22.71605358 22.72215184\n",
      " 22.72307392 22.72332888 22.74724753 22.74897277 22.75325937 22.7618987\n",
      " 22.76696871 22.8012193  22.80431596 22.8071273  22.81267982 22.81467791\n",
      " 22.81488608 22.81588616 22.820977   22.8286747  22.82937273 22.83068004\n",
      " 22.83413724 22.84240154 22.84608577 22.84915409 22.85431396 22.85470107\n",
      " 22.85581734 22.87127709 22.87539339 22.87611879 22.87660242 22.88349692\n",
      " 22.89048513 23.         23.91299097 23.91984356 23.92066554 23.94195446\n",
      " 23.96696205 23.98074813 23.98327733 23.99003939 23.99275662 24.\n",
      " 24.00276982 24.00489398 24.01852259 24.03179296 24.03447463 24.04314304\n",
      " 24.05069222 24.05512535 24.06053534 24.06455987 24.06669746 24.07380153\n",
      " 24.0742153  24.07766376 24.07959373 24.08738228 24.08838802 24.10147066\n",
      " 24.12482492 24.13135847 24.13172725 24.14556836 24.14717288 24.15847809\n",
      " 24.16019423 24.17075501 24.18167211 24.19221874 24.22143173 24.22381222\n",
      " 24.23066268 24.24521475 24.25193043 24.26632996 24.28725853 24.2894862\n",
      " 24.30344357 24.31780887 24.3183693  24.32926357 24.33525595 24.34362168\n",
      " 24.34653376 24.36023249 24.36211785 24.36213975 24.38591187 24.39812057\n",
      " 24.41841225 24.42332455 24.42992947 24.44449256 24.46504493 24.46554514\n",
      " 24.49492266 24.49855923 24.5129465  24.52346545 24.54065548 24.54662997\n",
      " 24.54756369 24.56728288 24.58857453 24.60312602 24.61828598 24.63849028\n",
      " 24.63902478 24.64229594 24.64264714 24.67510353 24.68410958 24.68854421\n",
      " 24.68973649 24.69557328 24.69957149 24.7088578  24.72059158 24.73236543\n",
      " 24.81626937 24.8293723  24.87914064 24.89299135 24.90774896 24.92431715\n",
      " 24.95567464 24.97061358 24.97897926 25.         25.00688788 25.01525262\n",
      " 25.0156009  25.02842031 25.02849458 25.03416696 25.03436863 25.0369472\n",
      " 25.03705109 25.04209722 25.04368839 25.04524844 25.0457079  25.05012864\n",
      " 25.05421069 25.05993035 25.06895157 25.06983866 25.06989327 25.07239156\n",
      " 25.0738895  25.08102003 25.08106407 25.08242744 25.09072532 25.09250939\n",
      " 25.09875667 25.10127446 25.10460726 25.10700654 25.10849552 25.10995833\n",
      " 25.11072758 25.11102219 25.11116663 25.12234531 25.12494461 25.12675105\n",
      " 25.13114034 25.13138088 25.13358587 25.13903636 25.14445377 25.15044083\n",
      " 25.15299539 25.15407459 25.1551187  25.15738257 25.1593638  25.16402378\n",
      " 25.16608553 25.17217274 25.1729414  25.17325351 25.1805642  25.18159728\n",
      " 25.18841198 25.19364863 25.19707116 25.19960707 25.20606771 25.20761269\n",
      " 25.2157125  25.22041368 25.22766469 25.22957764 25.23365566 25.23616969\n",
      " 25.23688566 25.23728478 25.24546866 25.24953346 25.2597151  25.26113179\n",
      " 25.26201438 25.26538462 25.27071389 25.27921895 25.28384671 25.28457222\n",
      " 25.29998965 25.32724793 25.33405423 25.3370504  25.34821245 25.3486875\n",
      " 25.35204626 25.35244996 25.35482796 25.35701492 25.35972328 25.36566981\n",
      " 25.37860491 25.3797688  25.38037668 25.38915583 25.38994008 25.3913399\n",
      " 25.39278915 25.39640955 25.40524805 25.40716541 25.40822241 25.40931606\n",
      " 25.40937143 25.41822778 25.41964519 25.42047847 25.42948991 25.47378123\n",
      " 25.47852573 25.47902084 25.48039554 25.48610769 25.49282321 25.50523365\n",
      " 25.50892734 25.51648875 25.52303935 25.53967783 25.55752671 25.55966267\n",
      " 25.56083916 25.56185702 25.56702833 25.57137952 25.57384993 25.5741794\n",
      " 25.580821   25.58163083 25.59796005 25.61122999 25.61169821 25.6176555\n",
      " 25.61771998 25.62107425 25.62220203 25.63976123 25.64438981 25.64624029\n",
      " 25.64658217 25.64900085 25.65126725 25.65846862 25.67468151 25.67752844\n",
      " 25.68136562 25.68207976 25.69234954 25.69485019 25.69680491 25.7032807\n",
      " 25.70407239 25.70748917 25.71385199 25.71586144 25.71617455 25.71897733\n",
      " 25.72509171 25.72645686 26.23770717 26.25699033 26.27692739 26.27840193\n",
      " 26.28989848 26.30493688 26.32695149 26.32805715 26.36506051 26.40862798\n",
      " 26.43832729 26.50752783 26.52728344 26.662951   26.67461817 26.69024933\n",
      " 26.71697596 26.78002825 26.80582875 26.84378231 26.86129064 26.92816702\n",
      " 26.9840619  27.0071755  27.0073579  27.02178974 27.03696922 27.15164523\n",
      " 27.24461809 27.25207834 27.33321461 27.34145646 27.41380519 27.48117587\n",
      " 27.52809432 27.53802565 27.60307045 28.71269521 28.7170509  28.75809282\n",
      " 28.8329167  28.8801839  28.92847798 28.99902871 29.05720381 30.10770832\n",
      " 30.39913688]\n",
      "==========================================================\n",
      "571\n"
     ]
    }
   ],
   "source": [
    "array_ones=np.ones((4,1))\n",
    "\n",
    "result=np.dot(new_combined,array_ones)\n",
    "\n",
    "unique=np.unique(result)\n",
    "\n",
    "print(unique)\n",
    "print(\"==========================================================\")\n",
    "print(len(unique))\n"
   ]
  },
  {
   "cell_type": "markdown",
   "metadata": {},
   "source": [
    "# Thank You"
   ]
  }
 ],
 "metadata": {
  "kernelspec": {
   "display_name": "Python 3",
   "language": "python",
   "name": "python3"
  },
  "language_info": {
   "codemirror_mode": {
    "name": "ipython",
    "version": 3
   },
   "file_extension": ".py",
   "mimetype": "text/x-python",
   "name": "python",
   "nbconvert_exporter": "python",
   "pygments_lexer": "ipython3",
   "version": "3.12.4"
  },
  "toc": {
   "base_numbering": 1,
   "nav_menu": {},
   "number_sections": false,
   "sideBar": true,
   "skip_h1_title": false,
   "title_cell": "Table of Contents",
   "title_sidebar": "Contents",
   "toc_cell": false,
   "toc_position": {},
   "toc_section_display": true,
   "toc_window_display": true
  }
 },
 "nbformat": 4,
 "nbformat_minor": 4
}
