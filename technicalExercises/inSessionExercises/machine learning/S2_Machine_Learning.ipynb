{
 "cells": [
  {
   "cell_type": "markdown",
   "metadata": {
    "id": "X63M77nfDF5Y"
   },
   "source": [
    "# Encoding"
   ]
  },
  {
   "cell_type": "markdown",
   "metadata": {
    "id": "XBdxXjhPDPJd"
   },
   "source": [
    "Label Encoding"
   ]
  },
  {
   "cell_type": "code",
   "execution_count": null,
   "metadata": {
    "colab": {
     "base_uri": "https://localhost:8080/"
    },
    "id": "Y1v7DU5IDBAV",
    "outputId": "c0fe31f5-559e-410c-b028-fc97cf266c4a"
   },
   "outputs": [
    {
     "name": "stdout",
     "output_type": "stream",
     "text": [
      "   Color  Color_Encoded\n",
      "0    Red              2\n",
      "1  Green              1\n",
      "2   Blue              0\n",
      "3  Green              1\n",
      "4    Red              2\n"
     ]
    }
   ],
   "source": [
    "from sklearn.preprocessing import LabelEncoder\n",
    "import pandas as pd\n",
    "\n",
    "# Sample data\n",
    "data = {'Color': ['Red', 'Green', 'Blue', 'Green', 'Red']}\n",
    "df = pd.DataFrame(data)\n",
    "\n",
    "# Label encoding\n",
    "label_encoder = LabelEncoder()\n",
    "df['Color_Encoded'] = label_encoder.fit_transform(df['Color'])\n",
    "\n",
    "print(df)"
   ]
  },
  {
   "cell_type": "markdown",
   "metadata": {
    "id": "f2dyLp3iDQrC"
   },
   "source": [
    "One-Hot Encoding"
   ]
  },
  {
   "cell_type": "code",
   "execution_count": null,
   "metadata": {
    "colab": {
     "base_uri": "https://localhost:8080/"
    },
    "id": "vj__UvbiDRwr",
    "outputId": "a6b84c9b-79b9-4cb2-dfcb-54a0296246f6"
   },
   "outputs": [
    {
     "name": "stdout",
     "output_type": "stream",
     "text": [
      "   Color  Color_Blue  Color_Green  Color_Red\n",
      "0    Red         0.0          0.0        1.0\n",
      "1  Green         0.0          1.0        0.0\n",
      "2   Blue         1.0          0.0        0.0\n",
      "3  Green         0.0          1.0        0.0\n",
      "4    Red         0.0          0.0        1.0\n"
     ]
    },
    {
     "name": "stderr",
     "output_type": "stream",
     "text": [
      "/usr/local/lib/python3.10/dist-packages/sklearn/preprocessing/_encoders.py:975: FutureWarning: `sparse` was renamed to `sparse_output` in version 1.2 and will be removed in 1.4. `sparse_output` is ignored unless you leave `sparse` to its default value.\n",
      "  warnings.warn(\n"
     ]
    }
   ],
   "source": [
    "from sklearn.preprocessing import OneHotEncoder\n",
    "\n",
    "# Sample data\n",
    "data = {'Color': ['Red', 'Green', 'Blue', 'Green', 'Red']}\n",
    "df = pd.DataFrame(data)\n",
    "\n",
    "# One-hot encoding\n",
    "one_hot_encoder = OneHotEncoder(sparse=False)\n",
    "encoded_colors = one_hot_encoder.fit_transform(df[['Color']])\n",
    "\n",
    "# Convert to a DataFrame\n",
    "encoded_df = pd.DataFrame(encoded_colors, columns=one_hot_encoder.get_feature_names_out(['Color']))\n",
    "df = pd.concat([df, encoded_df], axis=1)\n",
    "\n",
    "print(df)\n"
   ]
  },
  {
   "cell_type": "markdown",
   "metadata": {
    "id": "CyFcT4IhDIeD"
   },
   "source": [
    "# Scaling"
   ]
  },
  {
   "cell_type": "markdown",
   "metadata": {
    "id": "9HKOoBF8DV7C"
   },
   "source": [
    "Standardization"
   ]
  },
  {
   "cell_type": "code",
   "execution_count": null,
   "metadata": {
    "colab": {
     "base_uri": "https://localhost:8080/"
    },
    "id": "ZqYvYpn8DIZE",
    "outputId": "245dffbf-44e6-4533-adfb-037db910bbb5"
   },
   "outputs": [
    {
     "name": "stdout",
     "output_type": "stream",
     "text": [
      "   Age  Income  Age_Standardized  Income_Standardized\n",
      "0   25   50000         -0.995228            -1.018936\n",
      "1   45  100000          0.882561             0.762421\n",
      "2   35   75000         -0.056334            -0.128258\n",
      "3   50  120000          1.352008             1.474964\n",
      "4   23   48000         -1.183007            -1.090191\n"
     ]
    }
   ],
   "source": [
    "from sklearn.preprocessing import StandardScaler\n",
    "\n",
    "# Sample data\n",
    "data = {'Age': [25, 45, 35, 50, 23],\n",
    "        'Income': [50000, 100000, 75000, 120000, 48000]}\n",
    "df = pd.DataFrame(data)\n",
    "\n",
    "# Standardization\n",
    "scaler = StandardScaler()\n",
    "df[['Age_Standardized', 'Income_Standardized']] = scaler.fit_transform(df[['Age', 'Income']])\n",
    "\n",
    "print(df)"
   ]
  },
  {
   "cell_type": "markdown",
   "metadata": {
    "id": "YetqECCXDZ7k"
   },
   "source": [
    "Min-Max Normalization"
   ]
  },
  {
   "cell_type": "code",
   "execution_count": null,
   "metadata": {
    "colab": {
     "base_uri": "https://localhost:8080/"
    },
    "id": "c4aPNlsjDZ1s",
    "outputId": "0b0c4b24-4010-4b8a-c41c-86557976f8e4"
   },
   "outputs": [
    {
     "name": "stdout",
     "output_type": "stream",
     "text": [
      "   Age  Income  Age_Standardized  Income_Standardized  Age_Normalized  \\\n",
      "0   25   50000         -0.995228            -1.018936        0.074074   \n",
      "1   45  100000          0.882561             0.762421        0.814815   \n",
      "2   35   75000         -0.056334            -0.128258        0.444444   \n",
      "3   50  120000          1.352008             1.474964        1.000000   \n",
      "4   23   48000         -1.183007            -1.090191        0.000000   \n",
      "\n",
      "   Income_Normalized  \n",
      "0           0.027778  \n",
      "1           0.722222  \n",
      "2           0.375000  \n",
      "3           1.000000  \n",
      "4           0.000000  \n"
     ]
    }
   ],
   "source": [
    "from sklearn.preprocessing import MinMaxScaler\n",
    "\n",
    "# Min-Max Normalization\n",
    "min_max_scaler = MinMaxScaler()\n",
    "df[['Age_Normalized', 'Income_Normalized']] = min_max_scaler.fit_transform(df[['Age', 'Income']])\n",
    "\n",
    "print(df)"
   ]
  },
  {
   "cell_type": "markdown",
   "metadata": {
    "id": "xOHMuZEXDKdQ"
   },
   "source": [
    "# Overfitting"
   ]
  },
  {
   "cell_type": "code",
   "execution_count": 70,
   "metadata": {
    "id": "93GAjpbxFBGz"
   },
   "outputs": [],
   "source": [
    "import numpy as np\n",
    "import matplotlib.pyplot as plt\n",
    "from sklearn.preprocessing import PolynomialFeatures\n",
    "from sklearn.linear_model import LinearRegression\n",
    "from sklearn.model_selection import train_test_split\n",
    "from sklearn.metrics import mean_squared_error, r2_score"
   ]
  },
  {
   "cell_type": "code",
   "execution_count": 71,
   "metadata": {
    "id": "3IincISpFCPZ"
   },
   "outputs": [],
   "source": [
    "# # Generate synthetic data\n",
    "# np.random.seed(42)\n",
    "# X = np.random.rand(100, 1) * 10  # Feature (e.g., size of the house)\n",
    "# y = 2.5 * X**2 + 0.5 * X + np.random.randn(100, 1) * 10  # Quadratic relationship with noise"
   ]
  },
  {
   "cell_type": "code",
   "execution_count": 72,
   "metadata": {
    "id": "Says8DOOdUCk"
   },
   "outputs": [],
   "source": [
    "np.random.seed(42)\n",
    "X = np.random.rand(100, 1) * 10  # Feature (e.g., size of the house)\n",
    "y = 2.5 * X**2 + 0.5 * X + np.random.randn(100, 1) * 70  # Increased noise level to induce overfitting"
   ]
  },
  {
   "cell_type": "code",
   "execution_count": 73,
   "metadata": {
    "id": "TrGFAPBxFDJQ"
   },
   "outputs": [],
   "source": [
    "# Split data into training and test sets\n",
    "X_train, X_test, y_train, y_test = train_test_split(X, y, test_size=0.2, random_state=42)"
   ]
  },
  {
   "cell_type": "code",
   "execution_count": 74,
   "metadata": {
    "colab": {
     "base_uri": "https://localhost:8080/",
     "height": 75
    },
    "id": "dmwZhHp7FEMT",
    "outputId": "abd6558a-259f-446b-b63c-db1b777efe64"
   },
   "outputs": [
    {
     "data": {
      "text/html": [
       "<style>#sk-container-id-8 {color: black;}#sk-container-id-8 pre{padding: 0;}#sk-container-id-8 div.sk-toggleable {background-color: white;}#sk-container-id-8 label.sk-toggleable__label {cursor: pointer;display: block;width: 100%;margin-bottom: 0;padding: 0.3em;box-sizing: border-box;text-align: center;}#sk-container-id-8 label.sk-toggleable__label-arrow:before {content: \"▸\";float: left;margin-right: 0.25em;color: #696969;}#sk-container-id-8 label.sk-toggleable__label-arrow:hover:before {color: black;}#sk-container-id-8 div.sk-estimator:hover label.sk-toggleable__label-arrow:before {color: black;}#sk-container-id-8 div.sk-toggleable__content {max-height: 0;max-width: 0;overflow: hidden;text-align: left;background-color: #f0f8ff;}#sk-container-id-8 div.sk-toggleable__content pre {margin: 0.2em;color: black;border-radius: 0.25em;background-color: #f0f8ff;}#sk-container-id-8 input.sk-toggleable__control:checked~div.sk-toggleable__content {max-height: 200px;max-width: 100%;overflow: auto;}#sk-container-id-8 input.sk-toggleable__control:checked~label.sk-toggleable__label-arrow:before {content: \"▾\";}#sk-container-id-8 div.sk-estimator input.sk-toggleable__control:checked~label.sk-toggleable__label {background-color: #d4ebff;}#sk-container-id-8 div.sk-label input.sk-toggleable__control:checked~label.sk-toggleable__label {background-color: #d4ebff;}#sk-container-id-8 input.sk-hidden--visually {border: 0;clip: rect(1px 1px 1px 1px);clip: rect(1px, 1px, 1px, 1px);height: 1px;margin: -1px;overflow: hidden;padding: 0;position: absolute;width: 1px;}#sk-container-id-8 div.sk-estimator {font-family: monospace;background-color: #f0f8ff;border: 1px dotted black;border-radius: 0.25em;box-sizing: border-box;margin-bottom: 0.5em;}#sk-container-id-8 div.sk-estimator:hover {background-color: #d4ebff;}#sk-container-id-8 div.sk-parallel-item::after {content: \"\";width: 100%;border-bottom: 1px solid gray;flex-grow: 1;}#sk-container-id-8 div.sk-label:hover label.sk-toggleable__label {background-color: #d4ebff;}#sk-container-id-8 div.sk-serial::before {content: \"\";position: absolute;border-left: 1px solid gray;box-sizing: border-box;top: 0;bottom: 0;left: 50%;z-index: 0;}#sk-container-id-8 div.sk-serial {display: flex;flex-direction: column;align-items: center;background-color: white;padding-right: 0.2em;padding-left: 0.2em;position: relative;}#sk-container-id-8 div.sk-item {position: relative;z-index: 1;}#sk-container-id-8 div.sk-parallel {display: flex;align-items: stretch;justify-content: center;background-color: white;position: relative;}#sk-container-id-8 div.sk-item::before, #sk-container-id-8 div.sk-parallel-item::before {content: \"\";position: absolute;border-left: 1px solid gray;box-sizing: border-box;top: 0;bottom: 0;left: 50%;z-index: -1;}#sk-container-id-8 div.sk-parallel-item {display: flex;flex-direction: column;z-index: 1;position: relative;background-color: white;}#sk-container-id-8 div.sk-parallel-item:first-child::after {align-self: flex-end;width: 50%;}#sk-container-id-8 div.sk-parallel-item:last-child::after {align-self: flex-start;width: 50%;}#sk-container-id-8 div.sk-parallel-item:only-child::after {width: 0;}#sk-container-id-8 div.sk-dashed-wrapped {border: 1px dashed gray;margin: 0 0.4em 0.5em 0.4em;box-sizing: border-box;padding-bottom: 0.4em;background-color: white;}#sk-container-id-8 div.sk-label label {font-family: monospace;font-weight: bold;display: inline-block;line-height: 1.2em;}#sk-container-id-8 div.sk-label-container {text-align: center;}#sk-container-id-8 div.sk-container {/* jupyter's `normalize.less` sets `[hidden] { display: none; }` but bootstrap.min.css set `[hidden] { display: none !important; }` so we also need the `!important` here to be able to override the default hidden behavior on the sphinx rendered scikit-learn.org. See: https://github.com/scikit-learn/scikit-learn/issues/21755 */display: inline-block !important;position: relative;}#sk-container-id-8 div.sk-text-repr-fallback {display: none;}</style><div id=\"sk-container-id-8\" class=\"sk-top-container\"><div class=\"sk-text-repr-fallback\"><pre>LinearRegression()</pre><b>In a Jupyter environment, please rerun this cell to show the HTML representation or trust the notebook. <br />On GitHub, the HTML representation is unable to render, please try loading this page with nbviewer.org.</b></div><div class=\"sk-container\" hidden><div class=\"sk-item\"><div class=\"sk-estimator sk-toggleable\"><input class=\"sk-toggleable__control sk-hidden--visually\" id=\"sk-estimator-id-8\" type=\"checkbox\" checked><label for=\"sk-estimator-id-8\" class=\"sk-toggleable__label sk-toggleable__label-arrow\">LinearRegression</label><div class=\"sk-toggleable__content\"><pre>LinearRegression()</pre></div></div></div></div></div>"
      ],
      "text/plain": [
       "LinearRegression()"
      ]
     },
     "execution_count": 74,
     "metadata": {},
     "output_type": "execute_result"
    }
   ],
   "source": [
    "# Fit a polynomial regression model with a high degree (overfitting scenario)\n",
    "poly_features = PolynomialFeatures(degree=15)  # High-degree polynomial\n",
    "X_train_poly = poly_features.fit_transform(X_train)\n",
    "X_test_poly = poly_features.transform(X_test)\n",
    "\n",
    "model = LinearRegression()\n",
    "model.fit(X_train_poly, y_train)"
   ]
  },
  {
   "cell_type": "code",
   "execution_count": 75,
   "metadata": {
    "id": "OsuC5DKZFFMT"
   },
   "outputs": [],
   "source": [
    "# Predictions\n",
    "y_train_pred = model.predict(X_train_poly)\n",
    "y_test_pred = model.predict(X_test_poly)"
   ]
  },
  {
   "cell_type": "code",
   "execution_count": 76,
   "metadata": {
    "id": "TkdgPW0_FF-O"
   },
   "outputs": [],
   "source": [
    "# Calculate R² for training and test sets\n",
    "train_r2 = r2_score(y_train, y_train_pred)\n",
    "test_r2 = r2_score(y_test, y_test_pred)"
   ]
  },
  {
   "cell_type": "code",
   "execution_count": 77,
   "metadata": {
    "colab": {
     "base_uri": "https://localhost:8080/"
    },
    "id": "PYHLt6iiFGv7",
    "outputId": "cb52e5ad-e986-45e2-8e16-5045ddfd584f"
   },
   "outputs": [
    {
     "name": "stdout",
     "output_type": "stream",
     "text": [
      "Training R² (Overfitting): 0.61\n",
      "Test R² (Overfitting): 0.51\n"
     ]
    }
   ],
   "source": [
    "# Print R²\n",
    "print(f\"Training R² (Overfitting): {train_r2:.2f}\")\n",
    "print(f\"Test R² (Overfitting): {test_r2:.2f}\")"
   ]
  },
  {
   "cell_type": "code",
   "execution_count": 78,
   "metadata": {
    "colab": {
     "base_uri": "https://localhost:8080/",
     "height": 564
    },
    "id": "28bYj_kHDKYv",
    "outputId": "feb842f1-dc7c-4abf-8b65-bd1158ad65fb"
   },
   "outputs": [
    {
     "data": {
      "image/png": "[encoded data removed]",
      "text/plain": [
       "<Figure size 1000x600 with 1 Axes>"
      ]
     },
     "metadata": {},
     "output_type": "display_data"
    }
   ],
   "source": [
    "# 6. Plotting the results to show overfitting\n",
    "plt.figure(figsize=(10, 6))\n",
    "plt.scatter(X_train, y_train, color='blue', label='Training Data')\n",
    "plt.scatter(X_test, y_test, color='red', label='Test Data')\n",
    "\n",
    "X_plot = np.linspace(0, 10, 100).reshape(-1, 1)\n",
    "X_plot_poly = poly_features.transform(X_plot)\n",
    "y_plot = model.predict(X_plot_poly)\n",
    "\n",
    "plt.plot(X_plot, y_plot, color='black', linewidth=2, label='Overfitting Model Prediction')\n",
    "plt.xlabel(\"Feature (e.g., House Size)\")\n",
    "plt.ylabel(\"Target (e.g., House Price)\")\n",
    "plt.title(\"Overfitting in Polynomial Regression (Degree 20)\")\n",
    "plt.legend()\n",
    "plt.show()"
   ]
  },
  {
   "cell_type": "markdown",
   "metadata": {
    "id": "hZmgoQNqcq0l"
   },
   "source": [
    "**Import Required Libraries**"
   ]
  },
  {
   "cell_type": "code",
   "execution_count": 79,
   "metadata": {
    "id": "j4A9evymcquT"
   },
   "outputs": [],
   "source": [
    "from sklearn.linear_model import Lasso, Ridge"
   ]
  },
  {
   "cell_type": "markdown",
   "metadata": {
    "id": "5hNPfqEict2F"
   },
   "source": [
    "**Apply L1 (Lasso) Regularization**"
   ]
  },
  {
   "cell_type": "code",
   "execution_count": 80,
   "metadata": {
    "colab": {
     "base_uri": "https://localhost:8080/"
    },
    "id": "d5wsYl4DcsVa",
    "outputId": "56d867f0-794a-406e-9a88-ba79eeab6411"
   },
   "outputs": [
    {
     "name": "stdout",
     "output_type": "stream",
     "text": [
      "Lasso (L1) Training R²: 0.58\n",
      "Lasso (L1) Test R²: 0.54\n"
     ]
    },
    {
     "name": "stderr",
     "output_type": "stream",
     "text": [
      "/usr/local/lib/python3.10/dist-packages/sklearn/linear_model/_coordinate_descent.py:628: ConvergenceWarning: Objective did not converge. You might want to increase the number of iterations, check the scale of the features or consider increasing regularisation. Duality gap: 1.541e+05, tolerance: 7.295e+01\n",
      "  model = cd_fast.enet_coordinate_descent(\n"
     ]
    }
   ],
   "source": [
    "\n",
    "# Apply L1 (Lasso) Regularization\n",
    "lasso_model = Lasso(alpha=0.1)  # The alpha value controls the amount of regularization\n",
    "lasso_model.fit(X_train_poly, y_train)\n",
    "\n",
    "# Predictions using Lasso\n",
    "y_train_pred_lasso = lasso_model.predict(X_train_poly)\n",
    "y_test_pred_lasso = lasso_model.predict(X_test_poly)\n",
    "\n",
    "# Calculate R² score for Lasso\n",
    "train_r2_lasso = r2_score(y_train, y_train_pred_lasso)\n",
    "test_r2_lasso = r2_score(y_test, y_test_pred_lasso)\n",
    "\n",
    "print(f\"Lasso (L1) Training R²: {train_r2_lasso:.2f}\")\n",
    "print(f\"Lasso (L1) Test R²: {test_r2_lasso:.2f}\")"
   ]
  },
  {
   "cell_type": "markdown",
   "metadata": {
    "id": "6VSUE_WTc2ye"
   },
   "source": [
    "**Apply L2 (Ridge) Regularization**"
   ]
  },
  {
   "cell_type": "code",
   "execution_count": 81,
   "metadata": {
    "colab": {
     "base_uri": "https://localhost:8080/"
    },
    "id": "1nz4vb5tc2qr",
    "outputId": "f7fa4299-2b54-4381-a95a-e0067cbf069a"
   },
   "outputs": [
    {
     "name": "stdout",
     "output_type": "stream",
     "text": [
      "Ridge (L2) Training R²: 0.61\n",
      "Ridge (L2) Test R²: 0.51\n"
     ]
    }
   ],
   "source": [
    "# Apply L2 (Ridge) Regularization\n",
    "ridge_model = Ridge(alpha=0.1)  # The alpha value controls the amount of regularization\n",
    "ridge_model.fit(X_train_poly, y_train)\n",
    "\n",
    "# Predictions using Ridge\n",
    "y_train_pred_ridge = ridge_model.predict(X_train_poly)\n",
    "y_test_pred_ridge = ridge_model.predict(X_test_poly)\n",
    "\n",
    "# Calculate R² score for Ridge\n",
    "train_r2_ridge = r2_score(y_train, y_train_pred_ridge)\n",
    "test_r2_ridge = r2_score(y_test, y_test_pred_ridge)\n",
    "\n",
    "print(f\"Ridge (L2) Training R²: {train_r2_ridge:.2f}\")\n",
    "print(f\"Ridge (L2) Test R²: {test_r2_ridge:.2f}\")"
   ]
  }
 ],
 "metadata": {
  "colab": {
   "collapsed_sections": [
    "X63M77nfDF5Y",
    "CyFcT4IhDIeD",
    "xOHMuZEXDKdQ"
   ],
   "provenance": []
  },
  "kernelspec": {
   "display_name": "Python 3 (ipykernel)",
   "language": "python",
   "name": "python3"
  },
  "language_info": {
   "codemirror_mode": {
    "name": "ipython",
    "version": 3
   },
   "file_extension": ".py",
   "mimetype": "text/x-python",
   "name": "python",
   "nbconvert_exporter": "python",
   "pygments_lexer": "ipython3",
   "version": "3.12.7"
  }
 },
 "nbformat": 4,
 "nbformat_minor": 4
}
