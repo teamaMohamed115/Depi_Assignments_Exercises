{
 "cells": [
  {
   "cell_type": "markdown",
   "metadata": {
    "id": "WVJ5GWeaBEhJ"
   },
   "source": [
    "# Defining and Using Functions"
   ]
  },
  {
   "cell_type": "markdown",
   "metadata": {
    "id": "JY2spM5RBMcv"
   },
   "source": [
    "Basic Function Definition and Call"
   ]
  },
  {
   "cell_type": "code",
   "execution_count": null,
   "metadata": {
    "colab": {
     "base_uri": "https://localhost:8080/"
    },
    "id": "xnTfDAG3A0hm",
    "outputId": "40653704-9d6e-40e2-eca2-9cd0936b5970"
   },
   "outputs": [],
   "source": [
    "def greet():\n",
    "    print(\"Hello, world!\")\n",
    "\n",
    "greet()"
   ]
  },
  {
   "cell_type": "markdown",
   "metadata": {
    "id": "wXaa3cDVBQBZ"
   },
   "source": [
    "Function with Parameters"
   ]
  },
  {
   "cell_type": "code",
   "execution_count": null,
   "metadata": {
    "colab": {
     "base_uri": "https://localhost:8080/"
    },
    "id": "ygjQs_x1BQRm",
    "outputId": "20736ebd-3989-4247-8855-ddc564069a11"
   },
   "outputs": [],
   "source": [
    "def add(a, b):\n",
    "    return a + b\n",
    "\n",
    "result = add(5, 3)\n",
    "print(\"Sum:\", result)\n"
   ]
  },
  {
   "cell_type": "markdown",
   "metadata": {
    "id": "hOABAlgwBSc-"
   },
   "source": [
    "Function with Default Parameter Values"
   ]
  },
  {
   "cell_type": "code",
   "execution_count": null,
   "metadata": {
    "colab": {
     "base_uri": "https://localhost:8080/"
    },
    "id": "Q3hMTEsGBTqg",
    "outputId": "2fbc55de-19a3-4e91-9fb7-1cd51d23deb7"
   },
   "outputs": [],
   "source": [
    "def greet(name=\"Guest\"):\n",
    "    print(f\"Hello, {name}!\")\n",
    "\n",
    "greet(\"Alice\")\n",
    "greet()\n"
   ]
  },
  {
   "cell_type": "markdown",
   "metadata": {
    "id": "xFF7xWCZBV8t"
   },
   "source": [
    "Function Returning Multiple Values"
   ]
  },
  {
   "cell_type": "code",
   "execution_count": null,
   "metadata": {
    "colab": {
     "base_uri": "https://localhost:8080/"
    },
    "id": "IaFZN0SKBV4a",
    "outputId": "b69b20d3-ceaf-48d7-fe3e-1b5377e5fcd4"
   },
   "outputs": [],
   "source": [
    "def divide(a, b):\n",
    "    quotient = a // b\n",
    "    remainder = a % b\n",
    "    return quotient, remainder\n",
    "\n",
    "q, r = divide(10, 3)\n",
    "print(\"Quotient:\", q)\n",
    "print(\"Remainder:\", r)\n"
   ]
  },
  {
   "cell_type": "markdown",
   "metadata": {
    "id": "jFaf-cGqBYrt"
   },
   "source": [
    "Using Docstrings for Function Documentation"
   ]
  },
  {
   "cell_type": "code",
   "execution_count": null,
   "metadata": {
    "colab": {
     "base_uri": "https://localhost:8080/"
    },
    "id": "Hh4gJS6PBYnP",
    "outputId": "296ba32d-88ea-4d29-9809-3e00aad51a96"
   },
   "outputs": [],
   "source": [
    "def multiply(a, b):\n",
    "    \"\"\"\n",
    "    Multiplies two numbers and returns the result.\n",
    "    \"\"\"\n",
    "    return a * b\n",
    "\n",
    "print(multiply(4, 5))\n",
    "print(multiply.__doc__)\n"
   ]
  },
  {
   "cell_type": "markdown",
   "metadata": {
    "id": "A9PHHSJJBGIj"
   },
   "source": [
    "# Advanced Function Concepts"
   ]
  },
  {
   "cell_type": "markdown",
   "metadata": {
    "id": "NRDRT52cCWOC"
   },
   "source": [
    "**Lambda Functions**"
   ]
  },
  {
   "cell_type": "markdown",
   "metadata": {
    "id": "8nse44XbCqs2"
   },
   "source": [
    "Basic Lambda Function"
   ]
  },
  {
   "cell_type": "code",
   "execution_count": null,
   "metadata": {
    "colab": {
     "base_uri": "https://localhost:8080/"
    },
    "id": "lTaSFSKSBJ8R",
    "outputId": "16779db0-3955-4b54-d053-307976fd9060"
   },
   "outputs": [],
   "source": [
    "square = lambda x: x ** 2\n",
    "print(square(5))"
   ]
  },
  {
   "cell_type": "markdown",
   "metadata": {
    "id": "w5ohKHovCZxd"
   },
   "source": [
    "Lambda Function with Multiple Arguments"
   ]
  },
  {
   "cell_type": "code",
   "execution_count": null,
   "metadata": {
    "colab": {
     "base_uri": "https://localhost:8080/"
    },
    "id": "m94vchMMCaEj",
    "outputId": "839b3376-3dad-484e-a635-78589ea1dac9"
   },
   "outputs": [],
   "source": [
    "multiply = lambda x, y: x * y\n",
    "print(multiply(3, 4))"
   ]
  },
  {
   "cell_type": "markdown",
   "metadata": {
    "id": "A7ZU7Mm7CcU4"
   },
   "source": [
    "Using Lambda in map() Function"
   ]
  },
  {
   "cell_type": "code",
   "execution_count": null,
   "metadata": {
    "colab": {
     "base_uri": "https://localhost:8080/"
    },
    "id": "jS1b8S0wCciH",
    "outputId": "3fb8441b-31f4-48d1-eb67-32f15e42e10a"
   },
   "outputs": [],
   "source": [
    "numbers = [1, 2, 3, 4, 5]\n",
    "squares = list(map(lambda x: x ** 2, numbers))\n",
    "print(squares)\n"
   ]
  },
  {
   "cell_type": "markdown",
   "metadata": {
    "id": "9YK7xXJ3CeuD"
   },
   "source": [
    "Using Lambda in filter() Function"
   ]
  },
  {
   "cell_type": "code",
   "execution_count": null,
   "metadata": {
    "colab": {
     "base_uri": "https://localhost:8080/"
    },
    "id": "1xanEKexCepI",
    "outputId": "7aced079-5441-44bd-961c-a5583a9a5449"
   },
   "outputs": [],
   "source": [
    "numbers = [1, 2, 3, 4, 5, 6]\n",
    "even_numbers = list(filter(lambda x: x % 2 == 0, numbers))\n",
    "print(even_numbers)\n"
   ]
  },
  {
   "cell_type": "code",
   "execution_count": null,
   "metadata": {},
   "outputs": [],
   "source": [
    "strs = ['Summer', 'is', 'coming']\n",
    "list(map(lambda s: s.upper() + '!', strs))"
   ]
  },
  {
   "cell_type": "code",
   "execution_count": null,
   "metadata": {},
   "outputs": [],
   "source": [
    "def double(n):\n",
    "    return n * 2\n",
    "\n",
    "nums = [1, 2, 3, 4, 5, 6]\n",
    "list(map(double, nums))  "
   ]
  },
  {
   "cell_type": "markdown",
   "metadata": {
    "id": "ChvgPmeeClX5"
   },
   "source": [
    "**Recursive Functions**"
   ]
  },
  {
   "cell_type": "markdown",
   "metadata": {
    "id": "QKDJNqguCnjk"
   },
   "source": [
    "Calculating Factorial Using Recursion"
   ]
  },
  {
   "cell_type": "code",
   "execution_count": null,
   "metadata": {
    "colab": {
     "base_uri": "https://localhost:8080/"
    },
    "id": "oHyTG0vdClTR",
    "outputId": "5be2c0ef-4210-4754-a698-3bf4581d762a"
   },
   "outputs": [],
   "source": [
    "def factorial(n):\n",
    "    if n == 0:\n",
    "        return 1\n",
    "    else:\n",
    "        return n*factorial(n-1)\n",
    "\n",
    "print(factorial(5))\n"
   ]
  },
  {
   "cell_type": "markdown",
   "metadata": {
    "id": "46S67PXiCs-8"
   },
   "source": [
    "Fibonacci Sequence Using Recursion"
   ]
  },
  {
   "cell_type": "code",
   "execution_count": null,
   "metadata": {
    "colab": {
     "base_uri": "https://localhost:8080/"
    },
    "id": "UQqDLuM-Cs6f",
    "outputId": "4014978a-7323-4bc6-f519-a9c80cab4371"
   },
   "outputs": [],
   "source": [
    "def fibonacci(n):\n",
    "    if n <= 1:\n",
    "        return n\n",
    "    else:\n",
    "        return fibonacci(n - 1) + fibonacci(n - 2)\n",
    "\n",
    "print(fibonacci(6))\n"
   ]
  },
  {
   "cell_type": "markdown",
   "metadata": {
    "id": "HFFtZQYNCy5j"
   },
   "source": [
    "**Higher-Order Functions**"
   ]
  },
  {
   "cell_type": "markdown",
   "metadata": {
    "id": "paQrM2T-C0Zo"
   },
   "source": [
    "Using a Function as an Argument"
   ]
  },
  {
   "cell_type": "code",
   "execution_count": null,
   "metadata": {
    "colab": {
     "base_uri": "https://localhost:8080/"
    },
    "id": "FT2spaLeC1RY",
    "outputId": "12abc4be-f796-45c9-bf17-c83bf6d8d31b"
   },
   "outputs": [],
   "source": [
    "def apply_operation(a, b, operation):\n",
    "    return operation(a, b)\n",
    "\n",
    "def add(x, y):\n",
    "    return x + y\n",
    "\n",
    "print(apply_operation(5, 3, add))\n"
   ]
  },
  {
   "cell_type": "markdown",
   "metadata": {
    "id": "U9QaqZsWC3je"
   },
   "source": [
    "Returning a Function from Another Function"
   ]
  },
  {
   "cell_type": "code",
   "execution_count": null,
   "metadata": {
    "colab": {
     "base_uri": "https://localhost:8080/"
    },
    "id": "RD2hBxi9C3vh",
    "outputId": "253d4e90-3c90-46e1-842e-dc9ab5ab9a15"
   },
   "outputs": [],
   "source": [
    "def outer_function(message):\n",
    "    def inner_function():\n",
    "        print(message)\n",
    "    return inner_function\n",
    "\n",
    "greet = outer_function(\"Hello!\")\n",
    "greet()"
   ]
  },
  {
   "cell_type": "markdown",
   "metadata": {
    "id": "ISuqD6ALBI3n"
   },
   "source": [
    "# Practical Examples"
   ]
  },
  {
   "cell_type": "markdown",
   "metadata": {
    "id": "MlZLLmxLEiSI"
   },
   "source": [
    "Calculating Average of Numbers Using Functions"
   ]
  },
  {
   "cell_type": "code",
   "execution_count": null,
   "metadata": {
    "colab": {
     "base_uri": "https://localhost:8080/"
    },
    "id": "h3aozJOEBGDJ",
    "outputId": "c953fcca-ff89-48ea-c37a-3fb068a793e7"
   },
   "outputs": [],
   "source": [
    "def calculate_average(numbers):\n",
    "    return sum(numbers) / len(numbers)\n",
    "\n",
    "numbers = [10, 20, 30, 40, 50]\n",
    "print(\"Average:\", calculate_average(numbers))"
   ]
  },
  {
   "cell_type": "markdown",
   "metadata": {
    "id": "8jeuvoiUEpjn"
   },
   "source": [
    "Finding the Longest Word in a List"
   ]
  },
  {
   "cell_type": "code",
   "execution_count": null,
   "metadata": {
    "colab": {
     "base_uri": "https://localhost:8080/"
    },
    "id": "7edwFF9PEqWJ",
    "outputId": "ed14baf9-16de-49d8-c793-d40533eff05e"
   },
   "outputs": [],
   "source": [
    "def find_longest_word(words):\n",
    "    longest = \"\"\n",
    "    for word in words:\n",
    "        if len(word) > len(longest):\n",
    "            longest = word\n",
    "    return longest\n",
    "\n",
    "words = [\"apple\", \"banana\", \"cherry\", \"date\"]\n",
    "print(\"Longest word:\", find_longest_word(words))\n"
   ]
  },
  {
   "cell_type": "markdown",
   "metadata": {
    "id": "cdwFAkk5EsB1"
   },
   "source": [
    "Checking if a Number is Prime"
   ]
  },
  {
   "cell_type": "code",
   "metadata": {
    "colab": {
     "base_uri": "https://localhost:8080/"
    },
    "id": "VLhlbDA8Ejja",
    "outputId": "fcf17083-ddb0-4737-eec0-8c326763cec6",
    "ExecuteTime": {
     "end_time": "2024-11-09T18:39:32.976283Z",
     "start_time": "2024-11-09T18:39:32.971013Z"
    }
   },
   "source": [
    "def is_prime(n):\n",
    "    if n < 2:\n",
    "        return False\n",
    "    for i in range(2, int(n ** 0.5) + 1):\n",
    "        if n % i == 0:\n",
    "            return False\n",
    "    return True\n",
    "\n",
    "print(\"Is 17 prime?\", is_prime(17))\n"
   ],
   "outputs": [
    {
     "name": "stdout",
     "output_type": "stream",
     "text": [
      "Is 17 prime? False\n"
     ]
    }
   ],
   "execution_count": 7
  },
  {
   "cell_type": "markdown",
   "metadata": {
    "id": "pOpzkPHpEv8F"
   },
   "source": [
    "Converting Temperature Units"
   ]
  },
  {
   "cell_type": "code",
   "execution_count": null,
   "metadata": {
    "colab": {
     "base_uri": "https://localhost:8080/"
    },
    "id": "cYWMfPFFEtrP",
    "outputId": "0d145e5d-74ae-4e0b-be13-5594c21d108f"
   },
   "outputs": [],
   "source": [
    "def celsius_to_fahrenheit(celsius):\n",
    "    return (celsius * 9/5) + 32\n",
    "\n",
    "def fahrenheit_to_celsius(fahrenheit):\n",
    "    return (fahrenheit - 32) * 5/9\n",
    "\n",
    "print(\"25°C to Fahrenheit:\", celsius_to_fahrenheit(25))\n",
    "print(\"77°F to Celsius:\", fahrenheit_to_celsius(77))\n"
   ]
  },
  {
   "cell_type": "markdown",
   "metadata": {
    "id": "VCfAXd0CEzlm"
   },
   "source": [
    "Generating a List of Squares Using List Comprehension and Functions"
   ]
  },
  {
   "cell_type": "code",
   "execution_count": null,
   "metadata": {
    "colab": {
     "base_uri": "https://localhost:8080/"
    },
    "id": "7tJr59cyExwA",
    "outputId": "50d00f3f-5eef-426d-e964-34de48c5befc"
   },
   "outputs": [],
   "source": [
    "def square_list(numbers):\n",
    "    return [x ** 2 for x in numbers]\n",
    "\n",
    "numbers = [1, 2, 3, 4, 5]\n",
    "print(\"List of squares:\", square_list(numbers))\n"
   ]
  },
  {
   "cell_type": "markdown",
   "metadata": {
    "id": "4CXDUweUFIVl"
   },
   "source": [
    "Converting a List of Strings to Uppercase"
   ]
  },
  {
   "cell_type": "code",
   "execution_count": null,
   "metadata": {
    "colab": {
     "base_uri": "https://localhost:8080/"
    },
    "id": "G2HNriD_E0q4",
    "outputId": "bbcb1b80-d3e1-43a4-e13b-9c31689dc17c"
   },
   "outputs": [],
   "source": [
    "def convert_to_uppercase(words):\n",
    "    return [word.upper() for word in words]\n",
    "\n",
    "words = [\"hello\", \"world\", \"python\", \"functions\"]\n",
    "print(\"Uppercase words:\", convert_to_uppercase(words))\n"
   ]
  },
  {
   "cell_type": "markdown",
   "metadata": {
    "id": "BpAX4EBaFLW8"
   },
   "source": [
    "Calculating the Total Price Including Tax\n"
   ]
  },
  {
   "cell_type": "code",
   "execution_count": null,
   "metadata": {
    "colab": {
     "base_uri": "https://localhost:8080/"
    },
    "id": "SWuy0YFXFJZY",
    "outputId": "037d0eb2-c991-422a-8423-8844a2b2d84f"
   },
   "outputs": [],
   "source": [
    "def calculate_total_price(prices, tax_rate):\n",
    "    total = sum(prices)\n",
    "    total_with_tax = total * (1 + tax_rate)\n",
    "    return total_with_tax\n",
    "\n",
    "prices = [100, 200, 300]\n",
    "tax_rate = 0.1\n",
    "print(\"Total price with tax:\", calculate_total_price(prices, tax_rate))\n"
   ]
  },
  {
   "cell_type": "markdown",
   "metadata": {
    "id": "2Byw84lhFPAC"
   },
   "source": [
    "Finding the Minimum and Maximum Values in a List"
   ]
  },
  {
   "cell_type": "code",
   "execution_count": null,
   "metadata": {
    "colab": {
     "base_uri": "https://localhost:8080/"
    },
    "id": "F-v-n6cmFMrw",
    "outputId": "853bb0cb-25b1-49a9-bb9d-2ddb6859a665"
   },
   "outputs": [],
   "source": [
    "def find_min_max(numbers):\n",
    "    return min(numbers), max(numbers)\n",
    "\n",
    "numbers = [3, 7, 2, 9, 4]\n",
    "min_value, max_value = find_min_max(numbers)\n",
    "print(\"Minimum value:\", min_value)\n",
    "print(\"Maximum value:\", max_value)\n"
   ]
  },
  {
   "cell_type": "markdown",
   "metadata": {
    "id": "QkJqtoOXFRcZ"
   },
   "source": [
    "Checking if a String is a Valid Email Address"
   ]
  },
  {
   "cell_type": "code",
   "execution_count": null,
   "metadata": {
    "colab": {
     "base_uri": "https://localhost:8080/"
    },
    "id": "cZicYhuKFQHA",
    "outputId": "83020e17-8192-4290-a5a0-71057230fbc6"
   },
   "outputs": [],
   "source": [
    "def is_valid_email(email):\n",
    "    return \"@\" in email and \".\" in email.split(\"@\")[-1]\n",
    "\n",
    "email = \"example@example.com\"\n",
    "print(\"Is valid email:\", is_valid_email(email))\n"
   ]
  },
  {
   "cell_type": "markdown",
   "metadata": {
    "id": "wSYE2q2hFU7L"
   },
   "source": [
    "Counting the Frequency of Each Character in a String"
   ]
  },
  {
   "cell_type": "code",
   "execution_count": null,
   "metadata": {
    "colab": {
     "base_uri": "https://localhost:8080/"
    },
    "id": "SOBXCU5GFSk4",
    "outputId": "a24b1ddb-4dcc-4116-fbcd-048094ec7907"
   },
   "outputs": [],
   "source": [
    "def count_character_frequency(text):\n",
    "    frequency = {}\n",
    "    for char in text:\n",
    "        if char in frequency:\n",
    "            frequency[char] += 1\n",
    "        else:\n",
    "            frequency[char] = 1\n",
    "    return frequency\n",
    "\n",
    "text = \"hello world\"\n",
    "print(\"Character frequency:\", count_character_frequency(text))\n"
   ]
  },
  {
   "cell_type": "code",
   "execution_count": null,
   "metadata": {},
   "outputs": [],
   "source": []
  }
 ],
 "metadata": {
  "colab": {
   "collapsed_sections": [
    "WVJ5GWeaBEhJ"
   ],
   "provenance": []
  },
  "kernelspec": {
   "display_name": "Python 3 (ipykernel)",
   "language": "python",
   "name": "python3"
  },
  "language_info": {
   "codemirror_mode": {
    "name": "ipython",
    "version": 3
   },
   "file_extension": ".py",
   "mimetype": "text/x-python",
   "name": "python",
   "nbconvert_exporter": "python",
   "pygments_lexer": "ipython3",
   "version": "3.12.7"
  }
 },
 "nbformat": 4,
 "nbformat_minor": 4
}
