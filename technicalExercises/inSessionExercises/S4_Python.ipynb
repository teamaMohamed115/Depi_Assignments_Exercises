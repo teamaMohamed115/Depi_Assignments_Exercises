{
 "cells": [
  {
   "cell_type": "markdown",
   "metadata": {
    "id": "X3B3JVWQLdzO"
   },
   "source": [
    "# Defining Classes and Creating Objects"
   ]
  },
  {
   "cell_type": "markdown",
   "metadata": {
    "id": "qAG-c4JsLpod"
   },
   "source": [
    "Basic Class and Object Creation"
   ]
  },
  {
   "cell_type": "code",
   "execution_count": null,
   "metadata": {
    "colab": {
     "base_uri": "https://localhost:8080/"
    },
    "id": "7FMhwEcALaLr",
    "outputId": "51a9730d-a624-4c6b-f60f-19618a08ff62"
   },
   "outputs": [],
   "source": [
    "class Person:\n",
    "    # Constructor method to initialize attributes\n",
    "    def __init__(self, name, age):\n",
    "        self.name = name  # Attribute 'name'\n",
    "        self.age = age    # Attribute 'age'\n",
    "\n",
    "    # Method to display the person's details\n",
    "    def display_info(self):\n",
    "        print(f\"Name: {self.name}, Age: {self.age}\")\n",
    "\n",
    "# Creating an object of the Person class\n",
    "person1 = Person(\"Alice\", 30)\n",
    "\n",
    "# Accessing object attributes and methods\n",
    "print(person1.name) \n",
    "print(person1.age)   \n",
    "person1.display_info()  "
   ]
  },
  {
   "cell_type": "markdown",
   "metadata": {
    "id": "eA6KcZX5Lzzw"
   },
   "source": [
    "Using Multiple Objects"
   ]
  },
  {
   "cell_type": "code",
   "execution_count": null,
   "metadata": {
    "colab": {
     "base_uri": "https://localhost:8080/"
    },
    "id": "SYze4gUKL0Eu",
    "outputId": "ee49b2cd-be24-40cd-e5f0-66ccfdde5dde"
   },
   "outputs": [],
   "source": [
    "class Dog:\n",
    "    def __init__(self, name, breed):\n",
    "        self.name = name\n",
    "        self.breed = breed\n",
    "\n",
    "    def bark(self):\n",
    "        print(f\"{self.name} says woof!\")\n",
    "\n",
    "# Creating multiple Dog objects\n",
    "dog1 = Dog(\"Buddy\", \"Golden Retriever\")\n",
    "dog2 = Dog(\"Lucy\", \"Labrador\")\n",
    "\n",
    "# Calling methods on different objects\n",
    "dog1.bark()  \n",
    "dog2.bark() \n"
   ]
  },
  {
   "cell_type": "markdown",
   "metadata": {
    "id": "MTmeU59GM8i4"
   },
   "source": [
    "Adding Behavior with Methods"
   ]
  },
  {
   "cell_type": "code",
   "execution_count": null,
   "metadata": {
    "colab": {
     "base_uri": "https://localhost:8080/"
    },
    "id": "iS2NhdncM9c4",
    "outputId": "a90ce7a6-7d83-440e-f480-e3f4cba00586"
   },
   "outputs": [],
   "source": [
    "class Car:\n",
    "    def __init__(self, make, model, year):\n",
    "        self.make = make\n",
    "        self.model = model\n",
    "        self.year = year\n",
    "\n",
    "    def start(self):\n",
    "        print(f\"The {self.year} {self.make} {self.model} is starting.\")\n",
    "\n",
    "    def stop(self):\n",
    "        print(f\"The {self.year} {self.make} {self.model} is stopping.\")\n",
    "\n",
    "# Creating an object of the Car class\n",
    "my_car = Car(\"Toyota\", \"Camry\", 2020)\n",
    "\n",
    "# Calling methods on the object\n",
    "my_car.start() \n",
    "my_car.stop()   \n"
   ]
  },
  {
   "cell_type": "markdown",
   "metadata": {
    "id": "U5GG7Uc6M_iK"
   },
   "source": [
    "Updating Object Attributes"
   ]
  },
  {
   "cell_type": "code",
   "execution_count": null,
   "metadata": {
    "colab": {
     "base_uri": "https://localhost:8080/"
    },
    "id": "fADUqAPoM_vC",
    "outputId": "c123794d-ca64-4e4a-bb9c-31a7c2efe3d7"
   },
   "outputs": [],
   "source": [
    "class Student:\n",
    "    def __init__(self, name, grade):\n",
    "        self.name = name\n",
    "        self.grade = grade\n",
    "\n",
    "    def update_grade(self, new_grade):\n",
    "        self.grade = new_grade\n",
    "\n",
    "    def display_info(self):\n",
    "        print(f\"Student: {self.name}, Grade: {self.grade}\")\n",
    "\n",
    "# Creating a Student object\n",
    "student1 = Student(\"John\", \"B\")\n",
    "student1.display_info()  \n",
    "\n",
    "# Updating the student's grade\n",
    "student1.update_grade(\"A\")\n",
    "student1.display_info()  \n"
   ]
  },
  {
   "cell_type": "markdown",
   "metadata": {
    "id": "QopIIYeyNCjF"
   },
   "source": [
    "Using a Method to Return Information"
   ]
  },
  {
   "cell_type": "code",
   "execution_count": null,
   "metadata": {
    "colab": {
     "base_uri": "https://localhost:8080/"
    },
    "id": "xjIC7dtnNDlc",
    "outputId": "e7a78aca-52f8-4195-ec6a-54cf490cfcf8"
   },
   "outputs": [],
   "source": [
    "class Book:\n",
    "    def __init__(self, title, author):\n",
    "        self.title = title\n",
    "        self.author = author\n",
    "\n",
    "    def get_description(self):\n",
    "        return f\"'{self.title}' by {self.author}\"\n",
    "\n",
    "# Creating a Book object\n",
    "book1 = Book(\"1984\", \"George Orwell\")\n",
    "\n",
    "# Using a method to get information about the book\n",
    "description = book1.get_description()\n",
    "print(description) \n"
   ]
  },
  {
   "cell_type": "markdown",
   "metadata": {
    "id": "1ywNGvwOLjLs"
   },
   "source": [
    "# Practical Examples"
   ]
  },
  {
   "cell_type": "markdown",
   "metadata": {
    "id": "yZmISo1VO18u"
   },
   "source": [
    "Managing a Simple Inventory System"
   ]
  },
  {
   "cell_type": "code",
   "execution_count": null,
   "metadata": {
    "colab": {
     "base_uri": "https://localhost:8080/"
    },
    "id": "CeGF50zwLjGa",
    "outputId": "96af2598-2b60-4a21-f9a7-87fc21694424"
   },
   "outputs": [],
   "source": [
    "class Product:\n",
    "    def __init__(self, name, price, quantity):\n",
    "        self.name = name\n",
    "        self.price = price\n",
    "        self.quantity = quantity\n",
    "\n",
    "    def restock(self, amount):\n",
    "        self.quantity += amount\n",
    "        print(f\"Restocked {self.name}. New quantity: {self.quantity}\")\n",
    "\n",
    "    def sell(self, amount):\n",
    "        if amount <= self.quantity:\n",
    "            self.quantity -= amount\n",
    "            print(f\"Sold {amount} of {self.name}. Remaining quantity: {self.quantity}\")\n",
    "        else:\n",
    "            print(\"Not enough stock to sell.\")\n",
    "\n",
    "# Example usage\n",
    "product1 = Product(\"Laptop\", 1200, 10)\n",
    "product1.restock(5)   \n",
    "product1.sell(3)      \n",
    "product1.sell(20)    "
   ]
  },
  {
   "cell_type": "markdown",
   "metadata": {
    "id": "np7tHLYuO5HO"
   },
   "source": [
    "Simple Calculator Class"
   ]
  },
  {
   "cell_type": "code",
   "execution_count": null,
   "metadata": {
    "colab": {
     "base_uri": "https://localhost:8080/"
    },
    "id": "uhXNBvqrO3Rl",
    "outputId": "363a42e1-7acd-47a4-c46a-e7d5a8dde857"
   },
   "outputs": [],
   "source": [
    "class Calculator:\n",
    "    def add(self, a, b):\n",
    "        return a + b\n",
    "\n",
    "    def subtract(self, a, b):\n",
    "        return a - b\n",
    "\n",
    "    def multiply(self, a, b):\n",
    "        return a * b\n",
    "\n",
    "    def divide(self, a, b):\n",
    "        if b != 0:\n",
    "            return a / b\n",
    "        else:\n",
    "            return \"Error: Division by zero.\"\n",
    "\n",
    "# Example usage\n",
    "calc = Calculator()\n",
    "print(calc.add(10, 5))       \n",
    "print(calc.subtract(10, 5))  \n",
    "print(calc.multiply(10, 5))  \n",
    "print(calc.divide(10, 2))    \n",
    "print(calc.divide(10, 0))    "
   ]
  },
  {
   "cell_type": "markdown",
   "metadata": {
    "id": "AyM4_y3fO8Nw"
   },
   "source": [
    "Creating a Student Management System"
   ]
  },
  {
   "cell_type": "code",
   "execution_count": null,
   "metadata": {
    "colab": {
     "base_uri": "https://localhost:8080/"
    },
    "id": "OfwuSPXpO6mc",
    "outputId": "4f7137a6-7048-49ca-a691-460b335dd0b1"
   },
   "outputs": [],
   "source": [
    "class Student:\n",
    "    def __init__(self, name, student_id):\n",
    "        self.name = name\n",
    "        self.student_id = student_id\n",
    "        self.courses = []\n",
    "\n",
    "    def enroll(self, course):\n",
    "        self.courses.append(course)\n",
    "        print(f\"{self.name} has enrolled in {course}\")\n",
    "\n",
    "    def display_info(self):\n",
    "        print(f\"Student: {self.name}, ID: {self.student_id}, Courses: {', '.join(self.courses)}\")\n",
    "\n",
    "# Example usage\n",
    "student1 = Student(\"John Doe\", \"S12345\")\n",
    "student1.enroll(\"Math\")\n",
    "student1.enroll(\"Science\")\n",
    "student1.display_info()  \n"
   ]
  },
  {
   "cell_type": "markdown",
   "metadata": {
    "id": "BJCywu5EO-vz"
   },
   "source": [
    "Modeling a Bank Account"
   ]
  },
  {
   "cell_type": "code",
   "execution_count": null,
   "metadata": {
    "colab": {
     "base_uri": "https://localhost:8080/"
    },
    "id": "zLdu0R_1O9aF",
    "outputId": "9f8f94c1-bbb5-4420-e8ba-1b400e5fa7a7"
   },
   "outputs": [],
   "source": [
    "class BankAccount:\n",
    "    def __init__(self, account_holder, balance=0):\n",
    "        self.account_holder = account_holder\n",
    "        self.balance = balance\n",
    "\n",
    "    def deposit(self, amount):\n",
    "        self.balance += amount\n",
    "        print(f\"Deposited {amount}. New balance: {self.balance}\")\n",
    "\n",
    "    def withdraw(self, amount):\n",
    "        if amount <= self.balance:\n",
    "            self.balance -= amount\n",
    "            print(f\"Withdrew {amount}. Remaining balance: {self.balance}\")\n",
    "        else:\n",
    "            print(\"Insufficient funds.\")\n",
    "\n",
    "# Example usage\n",
    "account = BankAccount(\"Alice\")\n",
    "account.deposit(1000)   \n",
    "account.withdraw(500)   \n",
    "account.withdraw(1000) \n"
   ]
  },
  {
   "cell_type": "markdown",
   "metadata": {
    "id": "A9MeZoOUPBtX"
   },
   "source": [
    "Modeling a Simple Library System"
   ]
  },
  {
   "cell_type": "code",
   "execution_count": null,
   "metadata": {
    "colab": {
     "base_uri": "https://localhost:8080/"
    },
    "id": "wDf_stXAO_19",
    "outputId": "cad288b8-9296-40a2-be16-195c4a2f0421"
   },
   "outputs": [],
   "source": [
    "class Book:\n",
    "    def __init__(self, title, author):\n",
    "        self.title = title\n",
    "        self.author = author\n",
    "\n",
    "    def display(self):\n",
    "        print(f\"Title: {self.title}, Author: {self.author}\")\n",
    "\n",
    "class Library:\n",
    "    def __init__(self):\n",
    "        self.books = []\n",
    "\n",
    "    def add_book(self, book):\n",
    "        self.books.append(book)\n",
    "        print(f\"Added book: {book.title}\")\n",
    "\n",
    "    def list_books(self):\n",
    "        print(\"Library books:\")\n",
    "        for book in self.books:\n",
    "            book.display()\n",
    "\n",
    "# Example usage\n",
    "book1 = Book(\"1984\", \"George Orwell\")\n",
    "book2 = Book(\"To Kill a Mockingbird\", \"Harper Lee\")\n",
    "library = Library()\n",
    "library.add_book(book1)  \n",
    "library.add_book(book2)  \n",
    "library.list_books()\n"
   ]
  },
  {
   "cell_type": "markdown",
   "metadata": {
    "id": "krPTx-ogPE2C"
   },
   "source": [
    "Simple Voting System"
   ]
  },
  {
   "cell_type": "code",
   "execution_count": null,
   "metadata": {
    "colab": {
     "base_uri": "https://localhost:8080/"
    },
    "id": "HbEjBngfPCo-",
    "outputId": "afccf787-b19d-403b-f43f-a03074d790f8"
   },
   "outputs": [],
   "source": [
    "class Candidate:\n",
    "    def __init__(self, name):\n",
    "        self.name = name\n",
    "        self.votes = 0\n",
    "\n",
    "    def add_vote(self):\n",
    "        self.votes += 1\n",
    "\n",
    "    def display(self):\n",
    "        print(f\"Candidate: {self.name}, Votes: {self.votes}\")\n",
    "\n",
    "# Example usage\n",
    "candidate1 = Candidate(\"Alice\")\n",
    "candidate2 = Candidate(\"Bob\")\n",
    "\n",
    "# Voting\n",
    "candidate1.add_vote()\n",
    "candidate1.add_vote()\n",
    "candidate2.add_vote()\n",
    "\n",
    "# Display results\n",
    "candidate1.display()  \n",
    "candidate2.display()  \n"
   ]
  },
  {
   "cell_type": "markdown",
   "metadata": {
    "id": "CNdZ3X65PHJ-"
   },
   "source": [
    "Simple Temperature Converter"
   ]
  },
  {
   "cell_type": "code",
   "execution_count": null,
   "metadata": {
    "colab": {
     "base_uri": "https://localhost:8080/"
    },
    "id": "IePClLIBPF6V",
    "outputId": "4f720139-8033-49ce-a05b-09323cbe5b1d"
   },
   "outputs": [],
   "source": [
    "class TemperatureConverter:\n",
    "    def __init__(self, celsius):\n",
    "        self.celsius = celsius\n",
    "\n",
    "    def to_fahrenheit(self):\n",
    "        return (self.celsius * 9/5) + 32\n",
    "\n",
    "    def to_kelvin(self):\n",
    "        return self.celsius + 273.15\n",
    "\n",
    "# Example usage\n",
    "temp = TemperatureConverter(25)\n",
    "print(\"Fahrenheit:\", temp.to_fahrenheit()) \n",
    "print(\"Kelvin:\", temp.to_kelvin())          \n"
   ]
  },
  {
   "cell_type": "markdown",
   "metadata": {
    "id": "IFelKI5yPJ-l"
   },
   "source": [
    "Modeling a Car Rental System"
   ]
  },
  {
   "cell_type": "code",
   "execution_count": null,
   "metadata": {
    "colab": {
     "base_uri": "https://localhost:8080/"
    },
    "id": "pAXMsC2kPIHd",
    "outputId": "8d13cc68-641a-46ca-d370-c19bcbb11457"
   },
   "outputs": [],
   "source": [
    "class Car:\n",
    "    def __init__(self, make, model, year):\n",
    "        self.make = make\n",
    "        self.model = model\n",
    "        self.year = year\n",
    "        self.is_rented = False\n",
    "\n",
    "    def rent(self):\n",
    "        if not self.is_rented:\n",
    "            self.is_rented = True\n",
    "            print(f\"{self.make} {self.model} rented.\")\n",
    "        else:\n",
    "            print(f\"{self.make} {self.model} is already rented.\")\n",
    "\n",
    "    def return_car(self):\n",
    "        if self.is_rented:\n",
    "            self.is_rented = False\n",
    "            print(f\"{self.make} {self.model} returned.\")\n",
    "        else:\n",
    "            print(f\"{self.make} {self.model} was not rented.\")\n",
    "\n",
    "# Example usage\n",
    "car1 = Car(\"Toyota\", \"Corolla\", 2020)\n",
    "car1.rent()      \n",
    "car1.rent()       \n",
    "car1.return_car()\n",
    "car1.return_car()\n"
   ]
  }
 ],
 "metadata": {
  "colab": {
   "collapsed_sections": [
    "X3B3JVWQLdzO"
   ],
   "provenance": []
  },
  "kernelspec": {
   "display_name": "Python 3 (ipykernel)",
   "language": "python",
   "name": "python3"
  },
  "language_info": {
   "codemirror_mode": {
    "name": "ipython",
    "version": 3
   },
   "file_extension": ".py",
   "mimetype": "text/x-python",
   "name": "python",
   "nbconvert_exporter": "python",
   "pygments_lexer": "ipython3",
   "version": "3.12.7"
  }
 },
 "nbformat": 4,
 "nbformat_minor": 4
}
